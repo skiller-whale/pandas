{
 "cells": [
  {
   "cell_type": "markdown",
   "id": "22cad8d4",
   "metadata": {},
   "source": [
    "# Split-Apply-Combine - Part 2 - Advanced Aggregation\n",
    "\n",
    "This notebook contains exercises for 'Split-Applt-Combine'.\n",
    "\n",
    "<!-- **At the end of each exercise there are cells containing assert statements that you can use to check your answers.** -->"
   ]
  },
  {
   "cell_type": "code",
   "execution_count": null,
   "id": "86cbb675",
   "metadata": {},
   "outputs": [],
   "source": [
    "import pandas as pd\n",
    "import numpy as np\n",
    "%autosave 30"
   ]
  },
  {
   "cell_type": "markdown",
   "id": "bdc7ec76",
   "metadata": {},
   "source": [
    "## Exercise 3: Named Aggregation\n",
    "\n",
    "---\n",
    "\n",
    "Before you begin, run the cell below to load the datasets."
   ]
  },
  {
   "cell_type": "code",
   "execution_count": null,
   "id": "d598151c",
   "metadata": {},
   "outputs": [],
   "source": [
    "artists_df = pd.read_csv('../data/album_sales/artists.csv', index_col=0)\n",
    "albums_df = pd.read_csv('../data/album_sales/albums.csv', index_col=0)\n",
    "sales_df = pd.read_csv('../data/album_sales/sales.csv', index_col=0)\n",
    "vendors_df = pd.read_csv('../data/album_sales/vendors.csv', index_col=0)"
   ]
  },
  {
   "cell_type": "markdown",
   "id": "c166294a-0ddf-479f-abcf-de4873bd7710",
   "metadata": {},
   "source": [
    "### Question 3.1\n",
    "\n",
    "Group **albums** by **artist** and aggregate (using `agg`) to compute:\n",
    "\n",
    "- `total_tracks` - total number of tracks.\n",
    "- `total_time` - total number of minutes.\n",
    "- `num_collaborators` - number of unique collaborators over all albums."
   ]
  },
  {
   "cell_type": "code",
   "execution_count": null,
   "id": "3cc3f73b-ed4d-45c4-99a3-07cf4f27ef67",
   "metadata": {},
   "outputs": [],
   "source": [
    "# Your code goes here"
   ]
  },
  {
   "cell_type": "markdown",
   "id": "e60f302e-db6e-41b9-908c-a9b6e5a363f7",
   "metadata": {},
   "source": [
    "### Question 3.2\n",
    "\n",
    "Group **sales** by **album** and aggregate (using `agg`) to compute:\n",
    "\n",
    "- `total_amount` - amount of all sales.\n",
    "- `number_of_sales` - number of sales for album.\n",
    "- `first_sale_date` - the date of the first sale.\n",
    "\n",
    "_HINT:_ For the number of sales consider `count` and `size`. What's the difference and which would you prefer to use?"
   ]
  },
  {
   "cell_type": "code",
   "execution_count": null,
   "id": "55056ed6-08c8-43cb-8869-99f6b5f4fe98",
   "metadata": {},
   "outputs": [],
   "source": [
    "sales_stats_df = ..."
   ]
  },
  {
   "cell_type": "markdown",
   "id": "2a7b217b-5041-4dba-89cc-0aa022e3a661",
   "metadata": {},
   "source": [
    "## Exercise 4: Custom Aggregation Functions\n",
    "\n",
    "---"
   ]
  },
  {
   "cell_type": "markdown",
   "id": "66591e03-fedd-4142-a7d8-a7fefed8a7ab",
   "metadata": {},
   "source": [
    "### Question 4.1\n",
    "\n",
    "_The answer to this question is used in 4.2._ \n",
    "\n",
    "Find the number of the sales with `vendor_id` equal to `NaN` (no recorded vendor).\n",
    "\n",
    "_HINT:_ You can use `pd.isna` appropriately and sum the result."
   ]
  },
  {
   "cell_type": "code",
   "execution_count": null,
   "id": "e5e8fe5a-41e8-4040-b5d0-797c94583262",
   "metadata": {},
   "outputs": [],
   "source": [
    "num_sales_no_vendor = ..."
   ]
  },
  {
   "cell_type": "markdown",
   "id": "b64fb10d-d7a1-42a5-853a-5a1aedf05d7d",
   "metadata": {},
   "source": [
    "### Question 4.2\n",
    "\n",
    "This question extends `Question 3.2`, which is:\n",
    "\n",
    "> Group **sales** by **album** and aggregate (using `agg`) to compute:\n",
    "> - `total_amount` - amount of all sales.\n",
    "> - `number_of_sales` - number of sales for album.\n",
    "> - `first_sale_date` - the date of the first sale.\n",
    "\n",
    "Extend the aggregation for `Question 3.2` to include:\n",
    "\n",
    "- `no_vendor_sales` - the number of sales with no vendor."
   ]
  },
  {
   "cell_type": "code",
   "execution_count": null,
   "id": "9a3183fc-02e0-48a1-b495-16fb56d9c1aa",
   "metadata": {},
   "outputs": [],
   "source": [
    "sales_by_album = ..."
   ]
  },
  {
   "cell_type": "markdown",
   "id": "5ad426f0-a13e-4d0c-a0b1-26cba0aa95e1",
   "metadata": {},
   "source": [
    "### [Optional] Question 4.3\n",
    "\n",
    "This question builds on Question 4.2.\n",
    "\n",
    "Extend `sales_by_album` to include a column called `mean_amount_per_sale`, which is equal to the `total_amount` divided by `number_of_sales`.\n",
    "\n",
    "Can you do this within the call to `agg`? Why or why not?"
   ]
  },
  {
   "cell_type": "code",
   "execution_count": null,
   "id": "91b02d13-a105-49c2-8555-d9bd3a1bb005",
   "metadata": {},
   "outputs": [],
   "source": [
    "# Your code goes here"
   ]
  },
  {
   "cell_type": "markdown",
   "id": "62d9d06f-408a-4397-b3ea-3c50695c327c",
   "metadata": {},
   "source": [
    "## Exercise 5: Apply\n",
    "\n",
    "---"
   ]
  },
  {
   "cell_type": "markdown",
   "id": "0cf9a1fd-d740-4d62-b926-ea2f3d929350",
   "metadata": {},
   "source": [
    "### Question 5.1\n",
    "\n",
    "Compute the total amount for sales with no vendor.\n",
    "\n",
    "_HINT:_ Similar to before, you should use `pdisna`. This time this should be for filtering."
   ]
  },
  {
   "cell_type": "code",
   "execution_count": null,
   "id": "2c7f890a-f629-45d4-b6d0-d774ecbd9047",
   "metadata": {},
   "outputs": [],
   "source": [
    "total_amount_no_vendor = ..."
   ]
  },
  {
   "cell_type": "markdown",
   "id": "75a6167e-54eb-484f-a78b-f1337c651c30",
   "metadata": {},
   "source": [
    "### Question 5.2\n",
    "\n",
    "This question is similar to `Question 3.2` (but now using `apply`), which is:\n",
    "\n",
    "Group **sales** by **album** and aggregate (using `apply`) to compute:\n",
    "- `total_amount` - amount of all sales.\n",
    "- `number_of_sales` - number of sales for album.\n",
    "- `first_sale_date` - the date of the first sale.\n",
    "\n",
    "Additionally, compute:\n",
    "\n",
    "- `no_vendor_sales` - the total number of sales with no vendor.\n",
    "- `no_vendor_total_amount` - the total amount for sales with no vendor."
   ]
  },
  {
   "cell_type": "code",
   "execution_count": null,
   "id": "66b07b49-1359-47e9-ae80-e7408cb66e0c",
   "metadata": {},
   "outputs": [],
   "source": [
    "# Your code goes here"
   ]
  },
  {
   "cell_type": "markdown",
   "id": "d67b22ed-1459-45f2-9200-fe1d2757fb40",
   "metadata": {},
   "source": [
    "### [Optional] Question 5.3\n",
    "\n",
    "- Group **sales** by **album**.\n",
    "- Using `apply`, compute the vendor `id` with most sales (by amount) for each album.\n",
    "- [Extra] Include the _name_ of each vendor as well as the vendor `id` (names of vendors are in `vendors_df`).\n",
    "\n",
    "_HINT:_ You should use a `groupby` with the `apply` function.\n",
    "\n",
    "_HINT 2:_ The second `groupby` should be by `vendor_id`. The total amount of all sales should be sorted."
   ]
  },
  {
   "cell_type": "code",
   "execution_count": null,
   "id": "ec39e438-cd5b-4d44-8401-88a1c9b7b918",
   "metadata": {},
   "outputs": [],
   "source": [
    "def compute_vendor_stats(df):\n",
    "    most_popular_vendor_id = None\n",
    "    most_popular_vendor_name = None\n",
    "\n",
    "    # TODO: Implement this function\n",
    "    #    to compute `most_popular_vendor_id`\n",
    "    #    and `most_popular_vendor_name`.\n",
    "    \n",
    "    return pd.Series({\n",
    "        'most_popular_vendor_id': most_popular_vendor_id,\n",
    "        'most_popular_vendor_name': most_popular_vendor_name,\n",
    "    })\n",
    "    \n",
    "sales_df.groupby('album_id').apply(compute_vendor_stats)"
   ]
  }
 ],
 "metadata": {
  "kernelspec": {
   "display_name": "Python 3 (ipykernel)",
   "language": "python",
   "name": "python3"
  },
  "language_info": {
   "codemirror_mode": {
    "name": "ipython",
    "version": 3
   },
   "file_extension": ".py",
   "mimetype": "text/x-python",
   "name": "python",
   "nbconvert_exporter": "python",
   "pygments_lexer": "ipython3",
   "version": "3.11.5"
  }
 },
 "nbformat": 4,
 "nbformat_minor": 5
}
