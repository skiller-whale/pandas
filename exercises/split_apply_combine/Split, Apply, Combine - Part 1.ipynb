{
 "cells": [
  {
   "cell_type": "markdown",
   "id": "22cad8d4",
   "metadata": {},
   "source": [
    "# Split-Apply-Combine - Part 1 - Data Exploration and Aggregation\n",
    "\n",
    "This notebook contains exercises for 'Split-Applt-Combine'.\n",
    "\n",
    "<!-- **At the end of each exercise there are cells containing assert statements that you can use to check your answers.** -->"
   ]
  },
  {
   "cell_type": "code",
   "execution_count": null,
   "id": "86cbb675",
   "metadata": {},
   "outputs": [],
   "source": [
    "import pandas as pd\n",
    "import numpy as np\n",
    "%autosave 30"
   ]
  },
  {
   "cell_type": "markdown",
   "id": "cbf831dc",
   "metadata": {},
   "source": [
    "## Exercise 1: Grouping Data\n",
    "\n",
    "---\n",
    "\n",
    "In this exercise you will be working with a dataset of artists, albums and sales."
   ]
  },
  {
   "cell_type": "markdown",
   "id": "bdc7ec76",
   "metadata": {},
   "source": [
    "### Question 1.0\n",
    "\n",
    "Run the cell below to load the three datasets.\n",
    "\n",
    "Before you continue, use `DataFrame.describe()` and/or `DataFrame.head()` to familiarize yourself with the `artists_df`, `albums_df`, `sales_df` and `vendors_df` datasets."
   ]
  },
  {
   "cell_type": "code",
   "execution_count": null,
   "id": "d598151c",
   "metadata": {},
   "outputs": [],
   "source": [
    "artists_df = pd.read_csv('../data/album_sales/artists.csv', index_col=0)\n",
    "albums_df = pd.read_csv('../data/album_sales/albums.csv', index_col=0)\n",
    "sales_df = pd.read_csv('../data/album_sales/sales.csv', index_col=0)\n",
    "vendors_df = pd.read_csv('../data/album_sales/vendors.csv', index_col=0)"
   ]
  },
  {
   "cell_type": "code",
   "execution_count": null,
   "id": "efd2b670-337d-43ba-a8f7-b7333654ec1c",
   "metadata": {},
   "outputs": [],
   "source": [
    "# Your code goes here"
   ]
  },
  {
   "cell_type": "markdown",
   "id": "14436bf2-4d9b-4965-8593-d25fc1e24fb7",
   "metadata": {},
   "source": [
    "### Question 1.1\n",
    "\n",
    "Group all albums by genre and assign the result to `albums_by_genre`."
   ]
  },
  {
   "cell_type": "code",
   "execution_count": null,
   "id": "b3a84f55-58f6-4ab5-bc19-371e68499799",
   "metadata": {},
   "outputs": [],
   "source": [
    "albums_by_genre = ..."
   ]
  },
  {
   "cell_type": "markdown",
   "id": "0b45221e-8874-4864-8f9c-61f16f5dd98d",
   "metadata": {},
   "source": [
    "### Question 1.2\n",
    "\n",
    "Using `albums_by_genre`, extract the names of the groups (the genres) and assign it to `all_genres`.\n",
    "\n",
    "_HINT_: What kind of object is `albums_by_genre.groups`?\n",
    "\n",
    "_NOTE:_ Using `pd.unique` on the `genre` columns does the same and you should use that in production. This is what the `assert` statement uses."
   ]
  },
  {
   "cell_type": "code",
   "execution_count": null,
   "id": "b55906a6-b1af-417f-b692-a1c2a3e6cd36",
   "metadata": {},
   "outputs": [],
   "source": [
    "all_genres = ..."
   ]
  },
  {
   "cell_type": "code",
   "execution_count": null,
   "id": "4eca4cad-012f-4f84-b737-56bdfa2ec8fc",
   "metadata": {},
   "outputs": [],
   "source": [
    "assert sorted(all_genres) == sorted(pd.unique(albums_df['genre'])), (\n",
    "    f\"all_genres does not contain all genres - {all_genres}!\"\n",
    ")"
   ]
  },
  {
   "cell_type": "markdown",
   "id": "f899f371-842d-44c0-985c-b3cc2cac62dd",
   "metadata": {},
   "source": [
    "### Question 1.3\n",
    "\n",
    "* Group all albums by `collaborator_id`.\n",
    "* For each group, print the group's name and the content of the group (the `DataFrame`).\n",
    "* Is any data excluded?\n",
    "* [Optional] Can you find (and use) an extra parameter for `groupby` that would include all albums? \n",
    "\n",
    "_HINT:_ You can use the Jupyter function `display(df: DataFrame)` to pretty-print a `DataFrame` in the notebook (display it as an HTML object).\n",
    "_HINT 2:_ You can use `help(albums_df.groupby)` to find all the parameters `groupby` takes."
   ]
  },
  {
   "cell_type": "code",
   "execution_count": null,
   "id": "71e90eb7-9c9e-41cf-91f6-6d88920041d9",
   "metadata": {},
   "outputs": [],
   "source": [
    "albums_by_collab = .."
   ]
  },
  {
   "cell_type": "markdown",
   "id": "10785eaf-9c18-4b19-a9d0-bb196cc7404c",
   "metadata": {},
   "source": [
    "## Exercise 2: Aggregation Functions\n",
    "\n",
    "---"
   ]
  },
  {
   "cell_type": "markdown",
   "id": "b1ce260f-ff3b-4d75-aaa1-9ebf935781cf",
   "metadata": {},
   "source": [
    "### Question 2.1\n",
    "\n",
    "* Group all sales by album id.\n",
    "* Use `sum` to aggregate all columns.\n",
    "* Can you explain what happens to the `date` column?\n",
    "\n",
    "_HINT:_ What is the type of objects in the `date` column? What happens when you sum two or more objects of that type?"
   ]
  },
  {
   "cell_type": "code",
   "execution_count": null,
   "id": "154a7285-7a14-462e-98b7-dcd3b55cfbe2",
   "metadata": {},
   "outputs": [],
   "source": [
    "sales_by_album = ..."
   ]
  },
  {
   "cell_type": "markdown",
   "id": "eaa0a337-efb7-4002-befa-d6f91576c7b1",
   "metadata": {},
   "source": [
    "### Question 2.2\n",
    "\n",
    "For each album, compute the total revenue (sum of amount) from `sales_df` and assign the result to `total_revenue_by_album_s`.\n",
    "\n",
    "The result should have a single column."
   ]
  },
  {
   "cell_type": "code",
   "execution_count": null,
   "id": "5e42fb77-79af-473f-81e3-d87e47882334",
   "metadata": {},
   "outputs": [],
   "source": [
    "total_revenue_by_album_s = ..."
   ]
  },
  {
   "cell_type": "markdown",
   "id": "00f17193-1548-4d55-a4bd-1267b6939f57",
   "metadata": {},
   "source": [
    "### Question 2.3\n",
    "\n",
    "* Use `describe` on sales grouped by `album_id`. Assign the result to `sales_by_album_describe`.\n",
    "* From `sales_by_album_describe`, select the `min` sale amount for all albums."
   ]
  },
  {
   "cell_type": "code",
   "execution_count": null,
   "id": "ccc4bc19-1c92-4000-a455-5f0b0da6b502",
   "metadata": {},
   "outputs": [],
   "source": [
    "sales_by_album_describe = ..."
   ]
  },
  {
   "cell_type": "markdown",
   "id": "5e68b849-e566-47d7-8339-127ab3f35c6c",
   "metadata": {},
   "source": [
    "### [Optional] Question 2.4\n",
    "\n",
    "Extract the vendor name for the vendor with most sales.\n",
    "\n",
    "* Group `sales_df` by `vendor_id` and aggregate by summing `amount`.\n",
    "* Use `idxmax` to extract the `vendor_id` of the vendor with most sales.\n",
    "* Extract the name of the vendor from `vendors_df`."
   ]
  },
  {
   "cell_type": "code",
   "execution_count": null,
   "id": "a214ec3a-7202-42ea-9e0d-956410b9f8bc",
   "metadata": {},
   "outputs": [],
   "source": [
    "sales_stats_by_vendor = ..."
   ]
  }
 ],
 "metadata": {
  "kernelspec": {
   "display_name": "Python 3 (ipykernel)",
   "language": "python",
   "name": "python3"
  },
  "language_info": {
   "codemirror_mode": {
    "name": "ipython",
    "version": 3
   },
   "file_extension": ".py",
   "mimetype": "text/x-python",
   "name": "python",
   "nbconvert_exporter": "python",
   "pygments_lexer": "ipython3",
   "version": "3.11.5"
  }
 },
 "nbformat": 4,
 "nbformat_minor": 5
}
