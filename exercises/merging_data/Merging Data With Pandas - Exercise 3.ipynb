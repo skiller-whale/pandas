{
 "cells": [
  {
   "cell_type": "markdown",
   "id": "22cad8d4",
   "metadata": {},
   "source": [
    "# Merging Data With Pandas - Exercise 3\n",
    "\n",
    "This notebook contains exercises for 'Merging Data With Pandas'.\n",
    "\n",
    "<!-- **At the end of each exercise there are cells containing assert statements that you can use to check your answers.** -->"
   ]
  },
  {
   "cell_type": "code",
   "execution_count": null,
   "id": "86cbb675",
   "metadata": {},
   "outputs": [],
   "source": [
    "import pandas as pd\n",
    "import numpy as np\n",
    "%autosave 30"
   ]
  },
  {
   "cell_type": "markdown",
   "id": "b96b3f31",
   "metadata": {},
   "source": [
    "## Exercise 3: Putting it all Together\n",
    "\n",
    "---\n",
    "\n",
    "Before you begin, run the cell below to load the datasets."
   ]
  },
  {
   "cell_type": "code",
   "execution_count": null,
   "id": "d598151c",
   "metadata": {},
   "outputs": [],
   "source": [
    "artists_df = pd.read_csv('../data/album_sales/artists.csv', index_col=0)\n",
    "albums_df = pd.read_csv('../data/album_sales/albums.csv', index_col=0)\n",
    "sales_df = pd.read_csv('../data/album_sales/sales.csv', index_col=0)"
   ]
  },
  {
   "cell_type": "markdown",
   "id": "31b51d67",
   "metadata": {},
   "source": [
    "### Question 3.1\n",
    "\n",
    "Set `albums_artists_collabs_df` to be a table of all albums, artist names and collaborator names.\n",
    "\n",
    "Unlike the previous exercise, this table should contain all albums regardless of whether they have a collaborator associated with them.\n",
    "\n",
    "_HINT: You can start by copying your solution to the previous exercise. You will need to then modify it appropriately._"
   ]
  },
  {
   "cell_type": "code",
   "execution_count": null,
   "id": "38f652ec",
   "metadata": {},
   "outputs": [],
   "source": [
    "albums_artists_df = ..."
   ]
  },
  {
   "cell_type": "markdown",
   "id": "98b22ad0",
   "metadata": {},
   "source": [
    "### Question 3.2\n",
    "\n",
    "In the following exercises you will work with the `sales_df` dataset.\n",
    "\n",
    "Use `describe` and/or `head` to explore the dataset briefly."
   ]
  },
  {
   "cell_type": "code",
   "execution_count": null,
   "id": "d7c2e7ad",
   "metadata": {},
   "outputs": [],
   "source": [
    "..."
   ]
  },
  {
   "cell_type": "markdown",
   "id": "e8ed9f14",
   "metadata": {},
   "source": [
    "### Question 3.3\n",
    "\n",
    "In the space below, write code that will return a `DataFrame` containing:\n",
    "\n",
    "* The album title\n",
    "* The sale date\n",
    "\n",
    "for all sales of albums with more than 11 tracks."
   ]
  },
  {
   "cell_type": "code",
   "execution_count": null,
   "id": "a4621376",
   "metadata": {},
   "outputs": [],
   "source": [
    "albums_sales_df = ..."
   ]
  },
  {
   "cell_type": "markdown",
   "id": "9db673ef",
   "metadata": {},
   "source": [
    "### [Optional] Question 3.4\n",
    "\n",
    "* In the space below, write code to find out the title of all albums with 0 sales.\n",
    "\n",
    "_HINT: You can use `pd.isna()` to check if a column has NaN values. This will return a boolean mask._"
   ]
  },
  {
   "cell_type": "code",
   "execution_count": null,
   "id": "7736501b",
   "metadata": {},
   "outputs": [],
   "source": [
    "..."
   ]
  }
 ],
 "metadata": {
  "kernelspec": {
   "display_name": "Python 3 (ipykernel)",
   "language": "python",
   "name": "python3"
  },
  "language_info": {
   "codemirror_mode": {
    "name": "ipython",
    "version": 3
   },
   "file_extension": ".py",
   "mimetype": "text/x-python",
   "name": "python",
   "nbconvert_exporter": "python",
   "pygments_lexer": "ipython3",
   "version": "3.10.8"
  }
 },
 "nbformat": 4,
 "nbformat_minor": 5
}
