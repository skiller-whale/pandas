{
 "cells": [
  {
   "cell_type": "markdown",
   "id": "22cad8d4",
   "metadata": {},
   "source": [
    "# Merging Data With Pandas - Exercise 1\n",
    "\n",
    "This notebook contains exercises for 'Merging Data With Pandas'.\n",
    "\n",
    "<!-- **At the end of each exercise there are cells containing assert statements that you can use to check your answers.** -->"
   ]
  },
  {
   "cell_type": "code",
   "execution_count": null,
   "id": "86cbb675",
   "metadata": {},
   "outputs": [],
   "source": [
    "import pandas as pd\n",
    "import numpy as np\n",
    "%autosave 30"
   ]
  },
  {
   "cell_type": "markdown",
   "id": "cbf831dc",
   "metadata": {},
   "source": [
    "## Exercise 1: Relational Joins Using `pd.concat`\n",
    "\n",
    "---\n",
    "\n",
    "In this exercise you will be working with a dataset of artists, albums and sales."
   ]
  },
  {
   "cell_type": "markdown",
   "id": "bdc7ec76",
   "metadata": {},
   "source": [
    "### Question 1.0\n",
    "\n",
    "Run the cell below to load the three datasets.\n",
    "\n",
    "Before you continue, use `DataFrame.describe()` and/or `DataFrame.head()` to familiarize yourself with the `artists_df`, `albums_df` and `sales_df` datasets."
   ]
  },
  {
   "cell_type": "code",
   "execution_count": null,
   "id": "d598151c",
   "metadata": {},
   "outputs": [],
   "source": [
    "artists_df = pd.read_csv('../data/album_sales/artists.csv', index_col=0)\n",
    "albums_df = pd.read_csv('../data/album_sales/albums.csv', index_col=0)\n",
    "sales_df = pd.read_csv('../data/album_sales/sales.csv', index_col=0)"
   ]
  },
  {
   "cell_type": "markdown",
   "id": "21cea167",
   "metadata": {},
   "source": [
    "### Question 1.1\n",
    "\n",
    "The `total_revenue_by_album_s` `Series` contains the total amount of revenue made by each album.\n",
    "\n",
    "If something isn't in `total_revenue_by_album_s`, it means it has no revenue (and not just missing data).\n",
    "\n",
    "* Using `pd.concat` with `join='inner'`, concatenate this `Series` to the `albums` table.\n",
    "* What do you notice about the number of rows in the resulting table?\n",
    "* Now use `join='outer'`. Are there any invalid/missing values in the `total_revenue` column?\n",
    "\n",
    "* [Optional] Modify the resulting dataset so there are no invalid/missing values in the `total_revenue` column.\n",
    "\n",
    "_HINT: You can either do this manually or use the `isna` method on a column to get a mask of `True`/`False` for NaN values._"
   ]
  },
  {
   "cell_type": "code",
   "execution_count": null,
   "id": "c07c3fff",
   "metadata": {},
   "outputs": [],
   "source": [
    "# You don't need to understand how this is computed.\n",
    "total_revenue_by_album_s = sales_df.loc[:, ['album_id', 'amount']].groupby('album_id').sum(numeric_only=True)\n",
    "total_revenue_by_album_s.rename({'amount': 'total_revenue'}, axis=1, inplace=True)\n",
    "\n",
    "total_revenue_by_album_s"
   ]
  },
  {
   "cell_type": "code",
   "execution_count": null,
   "id": "567e3588",
   "metadata": {},
   "outputs": [],
   "source": [
    "albums_revenue_df = ..."
   ]
  },
  {
   "cell_type": "markdown",
   "id": "e1a952b2",
   "metadata": {},
   "source": [
    "### [Optional] Question 1.2\n",
    "\n",
    "Add a new column called `name_artist` to `albums_with_artists_df`. `name_artist` should contain the name of each artist. \n",
    "\n",
    "_HINT: You should use a list comprehension to pick out the names of the artists based on the `artist_id`._"
   ]
  },
  {
   "cell_type": "code",
   "execution_count": null,
   "id": "1c56249f",
   "metadata": {},
   "outputs": [],
   "source": [
    "albums_with_artists_df = albums_df.copy()\n",
    "\n",
    "albums_with_artists_df['name_artist'] = ..."
   ]
  }
 ],
 "metadata": {
  "kernelspec": {
   "display_name": "Python 3 (ipykernel)",
   "language": "python",
   "name": "python3"
  },
  "language_info": {
   "codemirror_mode": {
    "name": "ipython",
    "version": 3
   },
   "file_extension": ".py",
   "mimetype": "text/x-python",
   "name": "python",
   "nbconvert_exporter": "python",
   "pygments_lexer": "ipython3",
   "version": "3.10.8"
  }
 },
 "nbformat": 4,
 "nbformat_minor": 5
}
