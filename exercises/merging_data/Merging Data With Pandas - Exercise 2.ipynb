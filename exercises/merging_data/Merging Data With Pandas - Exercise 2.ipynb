{
 "cells": [
  {
   "cell_type": "markdown",
   "id": "22cad8d4",
   "metadata": {},
   "source": [
    "# Merging Data With Pandas - Exercise 2\n",
    "\n",
    "This notebook contains exercises for 'Merging Data With Pandas'.\n",
    "\n",
    "<!-- **At the end of each exercise there are cells containing assert statements that you can use to check your answers.** -->"
   ]
  },
  {
   "cell_type": "code",
   "execution_count": null,
   "id": "86cbb675",
   "metadata": {},
   "outputs": [],
   "source": [
    "import pandas as pd\n",
    "import numpy as np\n",
    "%autosave 30"
   ]
  },
  {
   "cell_type": "markdown",
   "id": "9c5ff2c9",
   "metadata": {},
   "source": [
    "## Exercise 2: Joins Using `pd.merge`\n",
    "\n",
    "---\n",
    "\n",
    "Before you begin, run the cell below to load the datasets."
   ]
  },
  {
   "cell_type": "code",
   "execution_count": null,
   "id": "d598151c",
   "metadata": {},
   "outputs": [],
   "source": [
    "artists_df = pd.read_csv('../data/album_sales/artists.csv', index_col=0)\n",
    "albums_df = pd.read_csv('../data/album_sales/albums.csv', index_col=0)\n",
    "sales_df = pd.read_csv('../data/album_sales/sales.csv', index_col=0)"
   ]
  },
  {
   "cell_type": "markdown",
   "id": "7be6c0f1",
   "metadata": {},
   "source": [
    "### Question 2.1\n",
    "\n",
    "Using `pd.merge`, set `albums_with_artists_df` to be a table of all albums together with the name of each artist as a new column."
   ]
  },
  {
   "cell_type": "code",
   "execution_count": null,
   "id": "ac63c768",
   "metadata": {},
   "outputs": [],
   "source": [
    "albums_with_artists_df = ..."
   ]
  },
  {
   "cell_type": "markdown",
   "id": "fb668ad4",
   "metadata": {},
   "source": [
    "### Question 2.2\n",
    "\n",
    "Now set `albums_artists_collabs_df` to be a table of all albums, artist name and collaborator names.\n",
    "This table should only contain albums with collaborators.\n",
    "\n",
    "* To do so, use `pd.merge` on `albums_with_artists_df` and `artists_df`.\n",
    "* Look at the column names. What do you notice?\n",
    "\n",
    "The optional argument `suffixes=['suffix_1', 'suffix_2]` allows you to add a suffix to columns with the same name in the two `DataFrame` objects. \n",
    "* Use `suffixes=['...']` to fix the issue you encountered."
   ]
  },
  {
   "cell_type": "code",
   "execution_count": null,
   "id": "b9d402e2",
   "metadata": {},
   "outputs": [],
   "source": [
    "albums_with_collabs_df = ..."
   ]
  }
 ],
 "metadata": {
  "kernelspec": {
   "display_name": "Python 3 (ipykernel)",
   "language": "python",
   "name": "python3"
  },
  "language_info": {
   "codemirror_mode": {
    "name": "ipython",
    "version": 3
   },
   "file_extension": ".py",
   "mimetype": "text/x-python",
   "name": "python",
   "nbconvert_exporter": "python",
   "pygments_lexer": "ipython3",
   "version": "3.10.8"
  }
 },
 "nbformat": 4,
 "nbformat_minor": 5
}
