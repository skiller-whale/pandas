{
 "cells": [
  {
   "cell_type": "markdown",
   "id": "42d34caf",
   "metadata": {},
   "source": [
    "# Pandas Series\n",
    "\n",
    "This notebook contains exercises for Pandas Series.\n",
    "\n",
    "<!-- At the end of each exercise there is a cell containing `assert` statements that you can use to check your answers. -->"
   ]
  },
  {
   "cell_type": "code",
   "execution_count": null,
   "id": "799d393a",
   "metadata": {},
   "outputs": [],
   "source": [
    "import pandas as pd\n",
    "import numpy as np\n",
    "from utils.dataset_loader import load_fishguard_dataset\n",
    "%autosave 30"
   ]
  },
  {
   "cell_type": "markdown",
   "id": "74cdceee",
   "metadata": {},
   "source": [
    "## Exercise 1: Getting Started with Pandas\n",
    "\n",
    "* Import pandas, i.e. `import pandas as pd`.\n",
    "* Create a new non-empty list `lst = [25, 17.3]`.\n",
    "* Create a `Series` from the list and store it in a new variable.\n",
    "* What's the `dtype` of the Series? You can use `s.dtype` to access it.\n",
    "  * Put your answer in the answerbox in the main session window."
   ]
  },
  {
   "cell_type": "code",
   "execution_count": null,
   "id": "f4a36f43",
   "metadata": {},
   "outputs": [],
   "source": [
    "# YOUR CODE GOES HERE"
   ]
  },
  {
   "cell_type": "markdown",
   "id": "222af105",
   "metadata": {},
   "source": [
    "## Part 1: Dataset Exploration\n",
    "\n",
    "---\n",
    "\n",
    "The code below loads the dataset of temperatures in the town of 'Fishguard'.\n",
    "This dataset contains average temperatures for each month in a year.\n",
    "You will now use pandas to extract some information about the dataset."
   ]
  },
  {
   "cell_type": "code",
   "execution_count": null,
   "id": "3a419cd6",
   "metadata": {},
   "outputs": [],
   "source": [
    "fishguard_temps = load_fishguard_dataset()"
   ]
  },
  {
   "cell_type": "markdown",
   "id": "a213b855",
   "metadata": {},
   "source": [
    "### Question 1.1\n",
    "\n",
    "Print the dataset and familiarize yourself with it. Check the shape of the dataset and the index labels. What do you notice?"
   ]
  },
  {
   "cell_type": "code",
   "execution_count": null,
   "id": "9846c644",
   "metadata": {},
   "outputs": [],
   "source": [
    "print(...)"
   ]
  },
  {
   "cell_type": "code",
   "execution_count": null,
   "id": "470d6410",
   "metadata": {},
   "outputs": [],
   "source": [
    "fishguard_temps_shape = ...\n",
    "print(fishguard_temps_shape)"
   ]
  },
  {
   "cell_type": "markdown",
   "id": "5e2971ac",
   "metadata": {},
   "source": [
    "### Question 1.2\n",
    "\n",
    "Extract the temperatures for June and July."
   ]
  },
  {
   "cell_type": "code",
   "execution_count": null,
   "id": "95a643f9",
   "metadata": {},
   "outputs": [],
   "source": [
    "temps_jun_jul = ..."
   ]
  },
  {
   "cell_type": "markdown",
   "id": "9be8d19c",
   "metadata": {},
   "source": [
    "### Question 1.3\n",
    "\n",
    "Use the method `idxmax` (index-max) on the Series to find the month (index) with the highest temperature.\n",
    "\n",
    "What do you notice?\n",
    "\n",
    "Can you fix the problem by removing a label from the dataset? Once you've fixed the problem, make sure that `idxmax` gives the correct answer.\n",
    "\n",
    "Is there still something odd you notice? Discuss with your coach."
   ]
  },
  {
   "cell_type": "code",
   "execution_count": null,
   "id": "a7737dd3",
   "metadata": {},
   "outputs": [],
   "source": [
    "highest_temp_month = ...\n",
    "print(highest_temp_month)"
   ]
  },
  {
   "cell_type": "code",
   "execution_count": null,
   "id": "d603a444",
   "metadata": {},
   "outputs": [],
   "source": [
    "# Save the dataset with the removed label to `fishguard_temps_transformed`\n",
    "fishguard_temps_transformed = ...\n",
    "highest_temp_month = ..."
   ]
  },
  {
   "cell_type": "code",
   "execution_count": null,
   "id": "4308de85",
   "metadata": {},
   "outputs": [],
   "source": [
    "print(\"=\" * 50)\n",
    "print('The average temperature in June is {0} and in July it is {1} degrees'.format(*temps_jun_jul))\n",
    "print(f'The month with the highest temperature is {highest_temp_month}')\n",
    "print()"
   ]
  },
  {
   "cell_type": "markdown",
   "id": "31ceb03d",
   "metadata": {},
   "source": [
    "## [Optional] Part 2: Statistics on Series\n",
    "\n",
    "---\n",
    "\n",
    "In this exercise you'll compute some statistics about the data."
   ]
  },
  {
   "cell_type": "markdown",
   "id": "01adb28e",
   "metadata": {},
   "source": [
    "### Question 1.4\n",
    "\n",
    "Find the names of the three months with the highest temperature.\n",
    "To do so, you can first sort the Series and then take the first three elements of the index of the (sorted) Series object.\n",
    "\n",
    "*HINT: Use python's `help` function on the `sort_values` method of the Series.*"
   ]
  },
  {
   "cell_type": "code",
   "execution_count": null,
   "id": "2d8ccb3f",
   "metadata": {},
   "outputs": [],
   "source": [
    "fishguard_temps_sorted = ...\n",
    "highest_temp_months = ..."
   ]
  },
  {
   "cell_type": "code",
   "execution_count": null,
   "id": "1c87317a",
   "metadata": {},
   "outputs": [],
   "source": [
    "print(\"=\" * 50)\n",
    "print('The three months with the highest temperatures are {0}, {1}, {2}'.format(*highest_temp_months))\n",
    "print(f'The average temperature in those months is {avg_temp:.1f} degrees')\n",
    "print()"
   ]
  }
 ],
 "metadata": {
  "kernelspec": {
   "display_name": "Python 3 (ipykernel)",
   "language": "python",
   "name": "python3"
  },
  "language_info": {
   "codemirror_mode": {
    "name": "ipython",
    "version": 3
   },
   "file_extension": ".py",
   "mimetype": "text/x-python",
   "name": "python",
   "nbconvert_exporter": "python",
   "pygments_lexer": "ipython3",
   "version": "3.10.8"
  }
 },
 "nbformat": 4,
 "nbformat_minor": 5
}
