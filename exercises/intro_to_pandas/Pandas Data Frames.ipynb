{
 "cells": [
  {
   "cell_type": "markdown",
   "id": "d2b00971",
   "metadata": {},
   "source": [
    "# Pandas Data Frames\n",
    "\n",
    "This notebook contains exercises for Pandas Data Frames.\n",
    "\n",
    "**At the end of each exercise there are cells containing `assert` statements that you can use to check your answers.**"
   ]
  },
  {
   "cell_type": "code",
   "execution_count": null,
   "id": "49f2dd65",
   "metadata": {},
   "outputs": [],
   "source": [
    "import pandas as pd\n",
    "import numpy as np\n",
    "from utils.dataset_loader import MOVIES_DATASET_PATH\n",
    "%autosave 30"
   ]
  },
  {
   "cell_type": "markdown",
   "id": "e6791d5b",
   "metadata": {},
   "source": [
    "## Exercise 1: Indexing Into Data Frames\n",
    "\n",
    "---\n",
    "\n",
    "You will now use pandas to extract some information from a dataset of movies.\n",
    "\n",
    "It's useful to `print` what you select.\n",
    "You can also put the variable you want printed at the last line of a cell.\n",
    "This is especially useful with pandas objects, which render differently in Jupyter cells.\n",
    "\n",
    "Printing/displaying like this often will let you know if, for instance, you're selecting rows when you mean to select columns, etc."
   ]
  },
  {
   "cell_type": "markdown",
   "id": "ba5520c8",
   "metadata": {},
   "source": [
    "### Question 1.1\n",
    "\n",
    "Load the movies dataset (its path is imported above in `MOVIES_DATASET_PATH`).\n",
    "You will need to specify that column `0` contains the index"
   ]
  },
  {
   "cell_type": "code",
   "execution_count": null,
   "id": "59c5f642",
   "metadata": {},
   "outputs": [],
   "source": [
    "movies_df = ..."
   ]
  },
  {
   "cell_type": "markdown",
   "id": "4da1c0d6",
   "metadata": {},
   "source": [
    "### Question 1.2\n",
    "\n",
    "The pandas functions `df.head(N)` selects the first `N` rows of the DataFrame. \n",
    "Use it to examine the dataset and familiarize yourself with it.\n",
    "\n",
    "*HINT: Put a single call to `.head` in the cell below instead of using `print`. Pandas objects render better when displayed like this in Jupyter notebooks.*"
   ]
  },
  {
   "cell_type": "code",
   "execution_count": null,
   "id": "9c7025f8",
   "metadata": {},
   "outputs": [],
   "source": [
    "..."
   ]
  },
  {
   "cell_type": "markdown",
   "id": "686202d1",
   "metadata": {},
   "source": [
    "### Question 1.3\n",
    "\n",
    "Select the revenue of all movies in the dataset.\n",
    "\n",
    "* Use `head` on this series to display the first `50` revenues. What do you notice?"
   ]
  },
  {
   "cell_type": "code",
   "execution_count": null,
   "id": "ec00e28a",
   "metadata": {},
   "outputs": [],
   "source": [
    "movies_revenues = ..."
   ]
  },
  {
   "cell_type": "markdown",
   "id": "8130ea0f",
   "metadata": {},
   "source": [
    "### Question 1.4\n",
    "\n",
    "Select the title of the movie at index 1459."
   ]
  },
  {
   "cell_type": "code",
   "execution_count": null,
   "id": "865cb582",
   "metadata": {},
   "outputs": [],
   "source": [
    "movie_1459_title = ..."
   ]
  },
  {
   "cell_type": "markdown",
   "id": "fefa9316",
   "metadata": {},
   "source": [
    "### Question 1.5\n",
    "\n",
    "Select the title and revenue of the first 100 movies."
   ]
  },
  {
   "cell_type": "code",
   "execution_count": null,
   "id": "a2575c79",
   "metadata": {},
   "outputs": [],
   "source": [
    "title_revenue_first_100 = ..."
   ]
  },
  {
   "cell_type": "markdown",
   "id": "d87f9b7d",
   "metadata": {},
   "source": [
    "### Question 1.6\n",
    "\n",
    "Select the highest grossing movie in the dataset (movie with most `revenue`).\n",
    "\n",
    "* You should use `movies_revenues` that you created above and which contains all the revenues.\n",
    "* Use `idxmax` (index-max) on this Series to find the index of the movie with most revenue.\n",
    "* Then use `highest_grossing_idx` to select the movie's title."
   ]
  },
  {
   "cell_type": "code",
   "execution_count": null,
   "id": "984b8089",
   "metadata": {},
   "outputs": [],
   "source": [
    "highest_grossing_idx = ..."
   ]
  },
  {
   "cell_type": "code",
   "execution_count": null,
   "id": "4b29a820",
   "metadata": {},
   "outputs": [],
   "source": [
    "highest_grossing_title = ..."
   ]
  },
  {
   "cell_type": "markdown",
   "id": "23f431d6",
   "metadata": {},
   "source": [
    "### [Optional] Question 1.7\n",
    "\n",
    "Select the title of the lowest-**rated** movie in the dataset.\n",
    "\n",
    "_HINT: Use `idxmin` on the `vote_average` column of the dataset._"
   ]
  },
  {
   "cell_type": "code",
   "execution_count": null,
   "id": "fcda8db9",
   "metadata": {},
   "outputs": [],
   "source": [
    "..."
   ]
  },
  {
   "cell_type": "markdown",
   "id": "e64f50d2",
   "metadata": {},
   "source": [
    "#### Run these cells after finishing the exercise questions to check your answers."
   ]
  },
  {
   "cell_type": "code",
   "execution_count": null,
   "id": "e7dba5f4",
   "metadata": {},
   "outputs": [],
   "source": [
    "assert movies_revenues.shape == (movies_revenues.shape[0],), \"Shape of movies_revenues is wrong!\""
   ]
  },
  {
   "cell_type": "code",
   "execution_count": null,
   "id": "fbc59f7b",
   "metadata": {},
   "outputs": [],
   "source": [
    "assert title_revenue_first_100.shape == (100, 2), \"Shape of title_revenue_first_100 is wrong!\""
   ]
  },
  {
   "cell_type": "code",
   "execution_count": null,
   "id": "a4e93b7f",
   "metadata": {},
   "outputs": [],
   "source": [
    "assert movie_1459_title == 'The Lizzie McGuire Movie', \"Title of movie 1459 is wrong!\""
   ]
  },
  {
   "cell_type": "code",
   "execution_count": null,
   "id": "766774d0",
   "metadata": {},
   "outputs": [],
   "source": [
    "assert highest_grossing_idx == 4434, \"Wrong highest_grossing_idx selected!\""
   ]
  },
  {
   "cell_type": "markdown",
   "id": "2320f151",
   "metadata": {},
   "source": [
    "## Exercise 2: Mathematical Operations\n",
    "\n",
    "---\n",
    "\n",
    "You will now use pandas to compute some statistics about the movies."
   ]
  },
  {
   "cell_type": "code",
   "execution_count": null,
   "id": "a8ed57fd",
   "metadata": {},
   "outputs": [],
   "source": [
    "# Run this cell first to display some more information about the dataset.\n",
    "\n",
    "movies_df.describe()"
   ]
  },
  {
   "cell_type": "markdown",
   "id": "fb106e12",
   "metadata": {},
   "source": [
    "### Question 2.1\n",
    "\n",
    "The above cell displays `movies_df.describe()`.\n",
    "\n",
    "What kind of object is returned by `movies_df.describe()`? Store it into the variable `desc`."
   ]
  },
  {
   "cell_type": "code",
   "execution_count": null,
   "id": "2bdaa803",
   "metadata": {},
   "outputs": [],
   "source": [
    "desc = ..."
   ]
  },
  {
   "cell_type": "markdown",
   "id": "fecd1928",
   "metadata": {},
   "source": [
    "### Question 2.2\n",
    "\n",
    "Extract from `desc` the mean (average) budget of movies."
   ]
  },
  {
   "cell_type": "code",
   "execution_count": null,
   "id": "e1f9d8f7",
   "metadata": {},
   "outputs": [],
   "source": [
    "mean_budget_movies = ..."
   ]
  },
  {
   "cell_type": "markdown",
   "id": "f7f267ee",
   "metadata": {},
   "source": [
    "### Question 2.3\n",
    "\n",
    "Extract the mean (average) runtime of the first 100 movies.\n",
    "\n",
    "*HINT: You need to use the original DataFrame for this question.*"
   ]
  },
  {
   "cell_type": "code",
   "execution_count": null,
   "id": "dd824d50",
   "metadata": {},
   "outputs": [],
   "source": [
    "mean_runtime_first_100_movies = ..."
   ]
  },
  {
   "cell_type": "markdown",
   "id": "ed7279f0",
   "metadata": {},
   "source": [
    "### Question 2.4\n",
    "\n",
    "Extract the total revenue of all movies."
   ]
  },
  {
   "cell_type": "code",
   "execution_count": null,
   "id": "6a0e6153",
   "metadata": {},
   "outputs": [],
   "source": [
    "total_revenue_all_movies = ..."
   ]
  },
  {
   "cell_type": "markdown",
   "id": "7f5b530e",
   "metadata": {},
   "source": [
    "#### Run this cell after finishing the exercise questions to check your answers."
   ]
  },
  {
   "cell_type": "code",
   "execution_count": null,
   "id": "759f6245",
   "metadata": {},
   "outputs": [],
   "source": [
    "assert np.isclose(mean_budget_movies, 4375023.772096334, rtol=1e-4), \"Mean budget of movies is wrong!\""
   ]
  },
  {
   "cell_type": "code",
   "execution_count": null,
   "id": "89f0aa44",
   "metadata": {},
   "outputs": [],
   "source": [
    "assert np.isclose(mean_runtime_first_100_movies, 92.34, rtol=1e-2), \"Mean runtime of first 100 movies is wrong!\""
   ]
  }
 ],
 "metadata": {
  "kernelspec": {
   "display_name": "Python 3 (ipykernel)",
   "language": "python",
   "name": "python3"
  },
  "language_info": {
   "codemirror_mode": {
    "name": "ipython",
    "version": 3
   },
   "file_extension": ".py",
   "mimetype": "text/x-python",
   "name": "python",
   "nbconvert_exporter": "python",
   "pygments_lexer": "ipython3",
   "version": "3.10.8"
  }
 },
 "nbformat": 4,
 "nbformat_minor": 5
}
