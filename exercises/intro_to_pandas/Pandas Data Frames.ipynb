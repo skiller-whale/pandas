{
 "cells": [
  {
   "cell_type": "markdown",
   "id": "d2b00971",
   "metadata": {},
   "source": [
    "# Pandas Data Frames\n",
    "\n",
    "This notebook contains exercises for Pandas Data Frames.\n",
    "\n",
    "**At the end of each exercise there are cells containing `assert` statements that you can use to check your answers.**"
   ]
  },
  {
   "cell_type": "code",
   "execution_count": null,
   "id": "49f2dd65",
   "metadata": {},
   "outputs": [],
   "source": [
    "import pandas as pd\n",
    "import numpy as np\n",
    "from utils.dataset_loader import FAKE_WHALE_DATASET_PATH\n",
    "%autosave 30"
   ]
  },
  {
   "cell_type": "markdown",
   "id": "e6791d5b",
   "metadata": {},
   "source": [
    "## Exercise 1: Indexing Into Data Frames\n",
    "\n",
    "---\n",
    "\n",
    "You will now use pandas to extract some information from a dataset of fake whales.\n",
    "\n",
    "It's useful to `print` what you select.\n",
    "You can also put the variable you want printed at the last line of a cell.\n",
    "This is especially useful with pandas objects, which render differently in Jupyter cells.\n",
    "\n",
    "Printing/displaying like this often will let you know if, for instance, you're selecting rows when you mean to select columns, etc."
   ]
  },
  {
   "cell_type": "markdown",
   "id": "ba5520c8",
   "metadata": {},
   "source": [
    "### Question 1.1\n",
    "\n",
    "Load the fake whale dataset (its path is imported above in `FAKE_WHALE_DATASET_PATH`).\n",
    "You will need to specify that column `0` contains the index"
   ]
  },
  {
   "cell_type": "code",
   "execution_count": null,
   "id": "59c5f642",
   "metadata": {},
   "outputs": [],
   "source": [
    "whale_df = ..."
   ]
  },
  {
   "cell_type": "markdown",
   "id": "4da1c0d6",
   "metadata": {},
   "source": [
    "### Question 1.2\n",
    "\n",
    "The pandas functions `df.head(N)` selects the first `N` rows of the DataFrame. \n",
    "Use it to examine the dataset and familiarize yourself with it.\n",
    "\n",
    "*HINT: Put a single call to `.head` in the cell below instead of using `print`. Pandas objects render better when displayed like this in Jupyter notebooks.*"
   ]
  },
  {
   "cell_type": "code",
   "execution_count": null,
   "id": "9c7025f8",
   "metadata": {},
   "outputs": [],
   "source": [
    "..."
   ]
  },
  {
   "cell_type": "markdown",
   "id": "686202d1",
   "metadata": {},
   "source": [
    "### Question 1.3\n",
    "\n",
    "Select the size of all whales in the dataset.\n",
    "\n",
    "If you use `whale_df.size`, what goes wrong?"
   ]
  },
  {
   "cell_type": "code",
   "execution_count": null,
   "id": "ec00e28a",
   "metadata": {},
   "outputs": [],
   "source": [
    "whale_sizes = ..."
   ]
  },
  {
   "cell_type": "markdown",
   "id": "8130ea0f",
   "metadata": {},
   "source": [
    "### Question 1.4\n",
    "\n",
    "Select the weight of the whale at index 567."
   ]
  },
  {
   "cell_type": "code",
   "execution_count": null,
   "id": "865cb582",
   "metadata": {},
   "outputs": [],
   "source": [
    "whale_567_weight = ..."
   ]
  },
  {
   "cell_type": "markdown",
   "id": "fefa9316",
   "metadata": {},
   "source": [
    "### Question 1.5\n",
    "\n",
    "Select the age and whale_type of the first 100 whales."
   ]
  },
  {
   "cell_type": "code",
   "execution_count": null,
   "id": "a2575c79",
   "metadata": {},
   "outputs": [],
   "source": [
    "age_whale_type_first_100 = ..."
   ]
  },
  {
   "cell_type": "markdown",
   "id": "d87f9b7d",
   "metadata": {},
   "source": [
    "### Question 1.6\n",
    "\n",
    "Select the index of the largest whale (in size) in the dataset.\n",
    "* You can use `whale_sizes` that you created above and which contains the sizes of all whales.\n",
    "* Use `idxmax` (index-max) on this Series to find the index of the largest whale."
   ]
  },
  {
   "cell_type": "code",
   "execution_count": null,
   "id": "984b8089",
   "metadata": {},
   "outputs": [],
   "source": [
    "largest_whale_index = ..."
   ]
  },
  {
   "cell_type": "markdown",
   "id": "e64f50d2",
   "metadata": {},
   "source": [
    "#### Run these cells after finishing the exercise questions to check your answers."
   ]
  },
  {
   "cell_type": "code",
   "execution_count": null,
   "id": "e7dba5f4",
   "metadata": {},
   "outputs": [],
   "source": [
    "assert whale_sizes.shape == (whale_df.shape[0],), \"Shape of whale_sizes is wrong!\""
   ]
  },
  {
   "cell_type": "code",
   "execution_count": null,
   "id": "fbc59f7b",
   "metadata": {},
   "outputs": [],
   "source": [
    "assert age_whale_type_first_100.shape == (100, 2), \"Shape of age_whale_type_first_100 is wrong!\""
   ]
  },
  {
   "cell_type": "code",
   "execution_count": null,
   "id": "a4e93b7f",
   "metadata": {},
   "outputs": [],
   "source": [
    "assert np.isclose(whale_567_weight, 6.641571451865368, rtol=1e-6), \"Weight of whale 567 is wrong!\""
   ]
  },
  {
   "cell_type": "code",
   "execution_count": null,
   "id": "766774d0",
   "metadata": {},
   "outputs": [],
   "source": [
    "assert largest_whale_index == 2045, \"Wrong largest whale selected!\""
   ]
  },
  {
   "cell_type": "markdown",
   "id": "2320f151",
   "metadata": {},
   "source": [
    "## Exercise 2: Mathematical Operations\n",
    "\n",
    "---\n",
    "\n",
    "You will now use pandas to compute some statistics about whales."
   ]
  },
  {
   "cell_type": "code",
   "execution_count": null,
   "id": "a8ed57fd",
   "metadata": {},
   "outputs": [],
   "source": [
    "# Run this cell first to display some more information about the dataset.\n",
    "\n",
    "whale_df.describe()"
   ]
  },
  {
   "cell_type": "markdown",
   "id": "fb106e12",
   "metadata": {},
   "source": [
    "### Question 2.1\n",
    "\n",
    "The above cell displays `whale_df.describe()`.\n",
    "\n",
    "What kind of object is returned by `whale_df.describe()`? Store it into the variable `desc`."
   ]
  },
  {
   "cell_type": "code",
   "execution_count": null,
   "id": "2bdaa803",
   "metadata": {},
   "outputs": [],
   "source": [
    "desc = ..."
   ]
  },
  {
   "cell_type": "markdown",
   "id": "fecd1928",
   "metadata": {},
   "source": [
    "### Question 2.2\n",
    "\n",
    "Extract from `desc` the mean (average) size of whales."
   ]
  },
  {
   "cell_type": "code",
   "execution_count": null,
   "id": "e1f9d8f7",
   "metadata": {},
   "outputs": [],
   "source": [
    "mean_size_whales = ..."
   ]
  },
  {
   "cell_type": "markdown",
   "id": "f7f267ee",
   "metadata": {},
   "source": [
    "### Question 2.3\n",
    "\n",
    "Extract the mean (average) age of the first 100 whales.\n",
    "\n",
    "*HINT: You need to use the original DataFrame for this question.*"
   ]
  },
  {
   "cell_type": "code",
   "execution_count": null,
   "id": "dd824d50",
   "metadata": {},
   "outputs": [],
   "source": [
    "mean_age_first_100_whales = ..."
   ]
  },
  {
   "cell_type": "markdown",
   "id": "ed7279f0",
   "metadata": {},
   "source": [
    "### Question 2.4\n",
    "\n",
    "Extract the total weight of all whales."
   ]
  },
  {
   "cell_type": "code",
   "execution_count": null,
   "id": "6a0e6153",
   "metadata": {},
   "outputs": [],
   "source": [
    "total_weight_all_whales = ..."
   ]
  },
  {
   "cell_type": "markdown",
   "id": "264bcc65",
   "metadata": {},
   "source": [
    "### Question 2.5\n",
    "\n",
    "Extract the age of the oldest whale.\n",
    "\n",
    "*HINT: Use `.max()` on the 'age' column of the original DataFrame.*"
   ]
  },
  {
   "cell_type": "code",
   "execution_count": null,
   "id": "dad7ddda",
   "metadata": {},
   "outputs": [],
   "source": [
    "oldest_whale_age = ..."
   ]
  },
  {
   "cell_type": "markdown",
   "id": "7f5b530e",
   "metadata": {},
   "source": [
    "#### Run this cell after finishing the exercise questions to check your answers."
   ]
  },
  {
   "cell_type": "code",
   "execution_count": null,
   "id": "759f6245",
   "metadata": {},
   "outputs": [],
   "source": [
    "assert np.isclose(mean_size_whales, 6.621894, rtol=1e-4), \"Mean size of whale is wrong!\""
   ]
  },
  {
   "cell_type": "code",
   "execution_count": null,
   "id": "89f0aa44",
   "metadata": {},
   "outputs": [],
   "source": [
    "assert np.isclose(mean_age_first_100_whales, 37.78, rtol=1e-2), \"Mean age of first 100 whales is wrong!\""
   ]
  },
  {
   "cell_type": "code",
   "execution_count": null,
   "id": "30b505c6",
   "metadata": {},
   "outputs": [],
   "source": [
    "assert np.isclose(total_weight_all_whales, 117907.7810983918, rtol=1e-5), \"Total weight of all whales is wrong!\""
   ]
  },
  {
   "cell_type": "code",
   "execution_count": null,
   "id": "d0bc511d",
   "metadata": {},
   "outputs": [],
   "source": [
    "assert np.isclose(oldest_whale_age, 114, rtol=1e-5), \"Oldest whale weight is wrong!\""
   ]
  }
 ],
 "metadata": {
  "kernelspec": {
   "display_name": "Python 3 (ipykernel)",
   "language": "python",
   "name": "python3"
  },
  "language_info": {
   "codemirror_mode": {
    "name": "ipython",
    "version": 3
   },
   "file_extension": ".py",
   "mimetype": "text/x-python",
   "name": "python",
   "nbconvert_exporter": "python",
   "pygments_lexer": "ipython3",
   "version": "3.10.8"
  }
 },
 "nbformat": 4,
 "nbformat_minor": 5
}
