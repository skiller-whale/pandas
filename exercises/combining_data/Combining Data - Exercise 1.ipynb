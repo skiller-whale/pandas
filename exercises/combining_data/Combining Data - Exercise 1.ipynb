{
 "cells": [
  {
   "cell_type": "markdown",
   "id": "22cad8d4",
   "metadata": {},
   "source": [
    "# Combining Data With Pandas\n",
    "\n",
    "This notebook contains exercises for 'Combining Data With Pandas'.\n",
    "\n",
    "<!-- **At the end of each exercise there are cells containing assert statements that you can use to check your answers.** -->"
   ]
  },
  {
   "cell_type": "code",
   "execution_count": null,
   "id": "86cbb675",
   "metadata": {},
   "outputs": [],
   "source": [
    "import pandas as pd\n",
    "import numpy as np\n",
    "%autosave 30"
   ]
  },
  {
   "cell_type": "markdown",
   "id": "47e8a767",
   "metadata": {},
   "source": [
    "## Exercise 1: Dataset Exploration and Combining Records\n",
    "\n",
    "---\n",
    "\n",
    "In this exercise you will be working with a dataset of movies that is in three parts.\n",
    "\n",
    "The code below loads each part of the dataset."
   ]
  },
  {
   "cell_type": "code",
   "execution_count": null,
   "id": "c8e26c8e",
   "metadata": {},
   "outputs": [],
   "source": [
    "movies_df_pt1 = pd.read_csv('../data/movies_dataset/movies_pt1.csv', index_col=0)\n",
    "movies_df_pt2 = pd.read_csv('../data/movies_dataset/movies_pt2.csv', index_col=0)\n",
    "movies_df_pt3 = pd.read_csv('../data/movies_dataset/movies_pt3.csv', index_col=0)"
   ]
  },
  {
   "cell_type": "markdown",
   "id": "1833542a",
   "metadata": {},
   "source": [
    "### Question 1.0\n",
    "\n",
    "Before you begin, use `df.describe()` and `df.head()` to familiarize yourself with the dataset. All three parts have the same columns.\n",
    "\n",
    "* From the first few rows, do you notice any ways in which this dataset is not clean?\n",
    "* Select the movie with `id` equal to `12600` from `movies_df_pt1`. What do you notice (no need to fix it for now)?"
   ]
  },
  {
   "cell_type": "code",
   "execution_count": null,
   "id": "cd10aad2",
   "metadata": {},
   "outputs": [],
   "source": [
    "..."
   ]
  },
  {
   "cell_type": "code",
   "execution_count": null,
   "id": "940ee0df",
   "metadata": {},
   "outputs": [],
   "source": [
    "..."
   ]
  },
  {
   "cell_type": "code",
   "execution_count": null,
   "id": "cbe23817",
   "metadata": {},
   "outputs": [],
   "source": [
    "..."
   ]
  },
  {
   "cell_type": "markdown",
   "id": "fd68e005",
   "metadata": {},
   "source": [
    "### Question 1.1\n",
    "\n",
    "Using `pd.concat`, combine all three parts of the movies dataset into `all_movies_df`.\n",
    "\n",
    "Make sure the resulting dataset has an index from `0` to `all_movies_df.shape[0] - 1`."
   ]
  },
  {
   "cell_type": "code",
   "execution_count": null,
   "id": "0e535d12",
   "metadata": {},
   "outputs": [],
   "source": [
    "all_movies_df = ..."
   ]
  },
  {
   "cell_type": "code",
   "execution_count": null,
   "id": "a5084452",
   "metadata": {},
   "outputs": [],
   "source": [
    "assert all_movies_df.shape == (\n",
    "    movies_df_pt1.shape[0] + movies_df_pt2.shape[0] + movies_df_pt3.shape[0],\n",
    "    movies_df_pt1.shape[1]\n",
    ")"
   ]
  }
 ],
 "metadata": {
  "kernelspec": {
   "display_name": "Python 3 (ipykernel)",
   "language": "python",
   "name": "python3"
  },
  "language_info": {
   "codemirror_mode": {
    "name": "ipython",
    "version": 3
   },
   "file_extension": ".py",
   "mimetype": "text/x-python",
   "name": "python",
   "nbconvert_exporter": "python",
   "pygments_lexer": "ipython3",
   "version": "3.10.8"
  }
 },
 "nbformat": 4,
 "nbformat_minor": 5
}
