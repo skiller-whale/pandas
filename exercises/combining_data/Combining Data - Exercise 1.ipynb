{
 "cells": [
  {
   "cell_type": "markdown",
   "id": "22cad8d4",
   "metadata": {},
   "source": [
    "# Combining Data With Pandas\n",
    "\n",
    "This notebook contains exercises for 'Combining Data With Pandas'.\n",
    "\n",
    "<!-- **At the end of each exercise there are cells containing assert statements that you can use to check your answers.** -->"
   ]
  },
  {
   "cell_type": "code",
   "execution_count": null,
   "id": "86cbb675",
   "metadata": {},
   "outputs": [],
   "source": [
    "import pandas as pd\n",
    "import numpy as np\n",
    "%autosave 30"
   ]
  },
  {
   "cell_type": "markdown",
   "id": "47e8a767",
   "metadata": {},
   "source": [
    "## Exercise 1: Combining Records\n",
    "\n",
    "---\n",
    "\n",
    "In this exercise you will be working with a dataset of artists."
   ]
  },
  {
   "cell_type": "code",
   "execution_count": null,
   "id": "c8e26c8e",
   "metadata": {},
   "outputs": [],
   "source": [
    "eu_artists_df = pd.read_csv('../data/album_sales/eu_artists.csv', index_col=0)\n",
    "us_artists_df = pd.read_csv('../data/album_sales/us_artists.csv', index_col=0)"
   ]
  },
  {
   "cell_type": "markdown",
   "id": "1833542a",
   "metadata": {},
   "source": [
    "### Question 1.0\n",
    "\n",
    "Before you begin, use `df.describe()` and `df.head()` to familiarize yourself with the `eu_artists_df` and `us_artists_df` datasets."
   ]
  },
  {
   "cell_type": "code",
   "execution_count": null,
   "id": "e8d16115",
   "metadata": {},
   "outputs": [],
   "source": [
    "..."
   ]
  },
  {
   "cell_type": "markdown",
   "id": "fd68e005",
   "metadata": {},
   "source": [
    "### Question 1.1\n",
    "\n",
    "Using `pd.concat`, combine `eu_artists_df` and `us_artists_df`.\n",
    "\n",
    "* Do you notice anything wrong (no need to fix it for now)?"
   ]
  },
  {
   "cell_type": "code",
   "execution_count": null,
   "id": "0e535d12",
   "metadata": {},
   "outputs": [],
   "source": [
    "all_artist_df = ..."
   ]
  },
  {
   "cell_type": "markdown",
   "id": "444b7ba3",
   "metadata": {},
   "source": [
    "### Question 1.2\n",
    "\n",
    "In this exercise you will separate the artist ids for both datasets.\n",
    "\n",
    "* Create a new column called `eu_artist_id` in `eu_artists_df`.\n",
    "* Create a new column called `us_artist_id` in `us_artists_df`.\n",
    "* Concatenate the datasets without the `artist_id` column.\n",
    "\n",
    "* What do you notice about the new `DataFrame`?"
   ]
  },
  {
   "cell_type": "code",
   "execution_count": null,
   "id": "b794caf0",
   "metadata": {},
   "outputs": [],
   "source": [
    "all_artist_df = ..."
   ]
  },
  {
   "cell_type": "markdown",
   "id": "c8399ba6",
   "metadata": {},
   "source": [
    "### Question 1.3\n",
    "\n",
    "The `all_artists_df` dataframe contains missing values.\n",
    "\n",
    "* Think about what would happen if you called `.dropna()` on it.\n",
    "* Call `.dropna()` on the `DataFrame`. Were you right?"
   ]
  },
  {
   "cell_type": "code",
   "execution_count": null,
   "id": "84753478",
   "metadata": {},
   "outputs": [],
   "source": [
    "..."
   ]
  }
 ],
 "metadata": {
  "kernelspec": {
   "display_name": "Python 3 (ipykernel)",
   "language": "python",
   "name": "python3"
  },
  "language_info": {
   "codemirror_mode": {
    "name": "ipython",
    "version": 3
   },
   "file_extension": ".py",
   "mimetype": "text/x-python",
   "name": "python",
   "nbconvert_exporter": "python",
   "pygments_lexer": "ipython3",
   "version": "3.10.8"
  }
 },
 "nbformat": 4,
 "nbformat_minor": 5
}
