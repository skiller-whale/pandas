{
 "cells": [
  {
   "cell_type": "markdown",
   "id": "22cad8d4",
   "metadata": {},
   "source": [
    "# Combining Data With Pandas\n",
    "\n",
    "This notebook contains exercises for 'Combining Data With Pandas'.\n",
    "\n",
    "<!-- **At the end of each exercise there are cells containing assert statements that you can use to check your answers.** -->"
   ]
  },
  {
   "cell_type": "code",
   "execution_count": null,
   "id": "86cbb675",
   "metadata": {},
   "outputs": [],
   "source": [
    "import pandas as pd\n",
    "import numpy as np\n",
    "%autosave 30"
   ]
  },
  {
   "cell_type": "markdown",
   "id": "47e8a767",
   "metadata": {},
   "source": [
    "## Exercise 3: Combining Features\n",
    "\n",
    "---\n",
    "\n",
    "In this exercise you will be combining statistics from the `albums` dataset together with the `artists` dataset.\n",
    "\n",
    "The computation of the statistics is provided and you do not need to understand how the code works (this is covered in a later session)."
   ]
  },
  {
   "cell_type": "code",
   "execution_count": null,
   "id": "c8e26c8e",
   "metadata": {},
   "outputs": [],
   "source": [
    "us_artists_df = pd.read_csv('../data/album_sales/us_artists.csv', index_col=0)\n",
    "albums_df = pd.read_csv('../data/album_sales/albums.csv', index_col=0)"
   ]
  },
  {
   "cell_type": "markdown",
   "id": "1833542a",
   "metadata": {},
   "source": [
    "### Question 3.0\n",
    "\n",
    "Before you begin, use `df.describe()` and `df.head()` to familiarize yourself with the `us_artists_df` and `albums_df` datasets."
   ]
  },
  {
   "cell_type": "code",
   "execution_count": null,
   "id": "cd10aad2",
   "metadata": {},
   "outputs": [],
   "source": [
    "..."
   ]
  },
  {
   "cell_type": "markdown",
   "id": "3b450e5b",
   "metadata": {},
   "source": [
    "### Question 3.1\n",
    "\n",
    "The below code extracts some summary statistics from the `albums_df` dataset.\n",
    "\n",
    "Examine the resulting dataframe (you don't need to understand how this dataset is constructed).\n",
    "\n",
    "* What do you notice?"
   ]
  },
  {
   "cell_type": "code",
   "execution_count": null,
   "id": "3d0f7a0f",
   "metadata": {},
   "outputs": [],
   "source": [
    "album_stats_df = pd.DataFrame({\n",
    "    'num_albums': albums_df.groupby('artist_id').apply(len),\n",
    "    'min_track_len': albums_df.groupby('artist_id').apply(lambda x: x['minutes'].min()),\n",
    "    'max_track_len': albums_df.groupby('artist_id').apply(lambda x: x['minutes'].max()),\n",
    "})\n",
    "album_stats_df.sort_values('num_albums', ascending=False, inplace=True)\n",
    "album_stats_df.reset_index(drop=False, inplace=True)\n",
    "\n",
    "album_stats_df"
   ]
  },
  {
   "cell_type": "markdown",
   "id": "55afe542",
   "metadata": {},
   "source": [
    "### Question 3.2\n",
    "\n",
    "Using `pd.concat`, combine `us_artists_df` and `album_stats_df`.\n",
    "\n",
    "*See the end of this notebook for some hints if you are stuck.*"
   ]
  },
  {
   "cell_type": "code",
   "execution_count": null,
   "id": "d33cf9c6",
   "metadata": {},
   "outputs": [],
   "source": [
    "artists_stats_df = ..."
   ]
  },
  {
   "cell_type": "markdown",
   "id": "77e18e75",
   "metadata": {},
   "source": [
    "### Question 3.3\n",
    "\n",
    "The below code extracts the total minutes from all albums in the `albums_df` dataset.\n",
    "\n",
    "* Use `pd.concat` to combine `us_artists_df` and `total_minutes_s`.\n",
    "* [Optional] The resulting dataset has a problem.\n",
    "  Can you fix it using `.rename`? You can get more information about a function by putting a `?` at the end and running the cell.\n",
    "  For example `artists_total_minutes_df.rename?`"
   ]
  },
  {
   "cell_type": "code",
   "execution_count": null,
   "id": "e60ef9a6",
   "metadata": {},
   "outputs": [],
   "source": [
    "total_minutes_s = pd.Series(albums_df.groupby('artist_id').apply(lambda x: sum(x['minutes'])))\n",
    "total_minutes_s"
   ]
  },
  {
   "cell_type": "code",
   "execution_count": null,
   "id": "6da93a89",
   "metadata": {},
   "outputs": [],
   "source": [
    "artists_total_minutes_df = ..."
   ]
  },
  {
   "cell_type": "markdown",
   "id": "45643017",
   "metadata": {},
   "source": [
    "## Hints\n",
    "\n",
    "- **Question 3.2** - Look at the index of the dataframe. Is this set to the correct column?\n",
    "- **Question 3.3** - The column name is an integer and not a string. You also need to pass the correct value for the `axis` argument."
   ]
  }
 ],
 "metadata": {
  "kernelspec": {
   "display_name": "Python 3 (ipykernel)",
   "language": "python",
   "name": "python3"
  },
  "language_info": {
   "codemirror_mode": {
    "name": "ipython",
    "version": 3
   },
   "file_extension": ".py",
   "mimetype": "text/x-python",
   "name": "python",
   "nbconvert_exporter": "python",
   "pygments_lexer": "ipython3",
   "version": "3.10.8"
  }
 },
 "nbformat": 4,
 "nbformat_minor": 5
}
