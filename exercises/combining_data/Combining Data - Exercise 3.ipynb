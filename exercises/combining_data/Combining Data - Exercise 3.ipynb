{
 "cells": [
  {
   "cell_type": "markdown",
   "id": "22cad8d4",
   "metadata": {},
   "source": [
    "# Combining Data With Pandas\n",
    "\n",
    "This notebook contains exercises for 'Combining Data With Pandas'.\n",
    "\n",
    "<!-- **At the end of each exercise there are cells containing assert statements that you can use to check your answers.** -->"
   ]
  },
  {
   "cell_type": "code",
   "execution_count": null,
   "id": "86cbb675",
   "metadata": {},
   "outputs": [],
   "source": [
    "import pandas as pd\n",
    "import numpy as np\n",
    "%autosave 30"
   ]
  },
  {
   "cell_type": "markdown",
   "id": "e1d7611c",
   "metadata": {},
   "source": [
    "## Exercise 3: Appending Features\n",
    "\n",
    "\n",
    "The two columns that have inconsistent values (as shown in the previous exercise) are `popularity` and `vote_count`.\n",
    "\n",
    "This question looks at a way of \"fixing\" this.\n",
    "One way of doing so when merging is simply duplicating the columns in the resulting dataset.\n",
    "\n",
    "This is by no means a solution in terms of merging the data, but rather allows to distinguish between the values and not lose any information.\n",
    "If you are doing any learning or data analysis on top, you will need a more sophisticated approach."
   ]
  },
  {
   "cell_type": "code",
   "execution_count": null,
   "id": "ed25b146",
   "metadata": {},
   "outputs": [],
   "source": [
    "movies_df_pt1 = pd.read_csv('../data/movies_dataset/movies_pt1.csv', index_col=0)\n",
    "movies_df_pt2 = pd.read_csv('../data/movies_dataset/movies_pt2.csv', index_col=0)\n",
    "movies_df_pt3 = pd.read_csv('../data/movies_dataset/movies_pt3.csv', index_col=0)\n",
    "\n",
    "all_movies_df = pd.concat([\n",
    "    movies_df_pt1,\n",
    "    movies_df_pt2,\n",
    "    movies_df_pt3\n",
    "], ignore_index=True)"
   ]
  },
  {
   "cell_type": "markdown",
   "id": "dd82f3c2",
   "metadata": {},
   "source": [
    "## Question 3.1\n",
    "\n",
    "The function `extract_duplicate_features_df` extracts duplicate features from the dataset and creates a new `DataFrame`.\n",
    "\n",
    "For example, let's say the movie with id `3` has two different values for `popularity` in the original dataset:\n",
    "\n",
    "\n",
    "| | .. _other features_ .. | popularity |\n",
    "| --- | --- | --- |\n",
    "| **id** | | |\n",
    "| 3 | ... | 1.5 |\n",
    "| 3 | ... | 3.8 |\n",
    "\n",
    "Then `extract_duplicate_features_df` will return a new `DataFrame` with a single row for this movie `id`:\n",
    "\n",
    "| | popularity_0 | popularity_ 1 |\n",
    "| --- | --- | --- |\n",
    "| **id** | | | |\n",
    "| 3  |     1.5      |      3.8      |\n",
    "\n",
    "\n",
    "where `1.5` and `3.8` are the two values for popularity. The `DataFrame` is also indexed by the movie's `id`.\n",
    "\n",
    "This `DataFrame` will not contain any other columns.\n",
    "\n",
    "* Run this function with `col_name='popularity'` (the default) and inspect the `DataFrame`.\n",
    "* Run `df.loc[~pd.isna(df['popularity_1'])]`, where `df` is the `DataFrame` returned by the function and make sure you understand its output -- this will select all rows that had duplicate `popularity` scores."
   ]
  },
  {
   "cell_type": "code",
   "execution_count": null,
   "id": "cdd98943",
   "metadata": {},
   "outputs": [],
   "source": [
    "def extract_duplicate_features_df(all_movies_df, col_name='popularity'):\n",
    "    \"\"\"Convert duplicate values for `col_name` into multiple columns.\"\"\"\n",
    "    # You do not need to understand how this function works.\n",
    "    duplicate_cols_df = all_movies_df.drop_duplicates(subset=['id', col_name]).groupby('id').apply(\n",
    "        lambda df: pd.Series({\n",
    "            f'{col_name}_{a_id}': row[col_name]\n",
    "            for a_id, (r_id, row) in enumerate(df.iterrows())\n",
    "        })\n",
    "    ).unstack()\n",
    "\n",
    "    return duplicate_cols_df"
   ]
  },
  {
   "cell_type": "code",
   "execution_count": null,
   "id": "c5fcef3c",
   "metadata": {},
   "outputs": [],
   "source": [
    "duplicate_popularity_df = ..."
   ]
  },
  {
   "cell_type": "markdown",
   "id": "1a757a29",
   "metadata": {},
   "source": [
    "## Question 3.2\n",
    "\n",
    "Concatenate the `DataFrame` you obtained from `extract_duplicate_features_df` together with the `all_movies_df` `DataFrame`. Make sure the resulting `DataFrame` contains no duplicate movie `id`s.\n",
    "\n",
    "* You will need to use `drop_duplicates` on `all_movies_df` with an appropriate `subset` argument.\n",
    "* Make sure to also set the index on `all_movies_df` appropriately."
   ]
  },
  {
   "cell_type": "code",
   "execution_count": null,
   "id": "1348bf4a",
   "metadata": {},
   "outputs": [],
   "source": [
    "..."
   ]
  },
  {
   "cell_type": "markdown",
   "id": "698cf147",
   "metadata": {},
   "source": [
    "## Question 3.3\n",
    "\n",
    "* Do the same thing for the column `vote_count` (you will need to call `extract_duplicate_features_df` with an appropriate argument.\n",
    "* Then reset the index of the resulting `DataFrame`, making sure to keep the old index, as it contains the movie `id`s.\n",
    "\n",
    "* **[Optional**] Finally, remove the now redundant `popularity` and `vote_count` columns.\n",
    "You can do this by using `df.drop(<col_names>, axis=1)` on the final dataframe, giving it the appropriate column names as argument."
   ]
  },
  {
   "cell_type": "code",
   "execution_count": null,
   "id": "85a15318",
   "metadata": {},
   "outputs": [],
   "source": [
    "duplicate_vote_count_df = ..."
   ]
  },
  {
   "cell_type": "code",
   "execution_count": null,
   "id": "ef1a0631",
   "metadata": {},
   "outputs": [],
   "source": [
    "# Optional - remove the `popularity` and `vote_count` columns\n",
    "..."
   ]
  }
 ],
 "metadata": {
  "kernelspec": {
   "display_name": "Python 3 (ipykernel)",
   "language": "python",
   "name": "python3"
  },
  "language_info": {
   "codemirror_mode": {
    "name": "ipython",
    "version": 3
   },
   "file_extension": ".py",
   "mimetype": "text/x-python",
   "name": "python",
   "nbconvert_exporter": "python",
   "pygments_lexer": "ipython3",
   "version": "3.10.8"
  }
 },
 "nbformat": 4,
 "nbformat_minor": 5
}
