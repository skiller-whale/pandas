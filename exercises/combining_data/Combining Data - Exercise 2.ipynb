{
 "cells": [
  {
   "cell_type": "markdown",
   "id": "22cad8d4",
   "metadata": {},
   "source": [
    "# Combining Data With Pandas\n",
    "\n",
    "This notebook contains exercises for 'Combining Data With Pandas'.\n",
    "\n",
    "<!-- **At the end of each exercise there are cells containing assert statements that you can use to check your answers.** -->"
   ]
  },
  {
   "cell_type": "code",
   "execution_count": null,
   "id": "86cbb675",
   "metadata": {},
   "outputs": [],
   "source": [
    "import pandas as pd\n",
    "import numpy as np\n",
    "%autosave 30"
   ]
  },
  {
   "cell_type": "markdown",
   "id": "47e8a767",
   "metadata": {},
   "source": [
    "## Exercise 2: Combining Records With Duplicates\n",
    "\n",
    "---\n",
    "\n",
    "In this exercise, you will investigate some issues the dataset has."
   ]
  },
  {
   "cell_type": "code",
   "execution_count": null,
   "id": "c8e26c8e",
   "metadata": {},
   "outputs": [],
   "source": [
    "movies_df_pt1 = pd.read_csv('../data/movies_dataset/movies_pt1.csv', index_col=0)\n",
    "movies_df_pt2 = pd.read_csv('../data/movies_dataset/movies_pt2.csv', index_col=0)\n",
    "movies_df_pt3 = pd.read_csv('../data/movies_dataset/movies_pt3.csv', index_col=0)\n",
    "\n",
    "all_movies_df = pd.concat([\n",
    "    movies_df_pt1,\n",
    "    movies_df_pt2,\n",
    "    movies_df_pt3\n",
    "], ignore_index=True)"
   ]
  },
  {
   "cell_type": "markdown",
   "id": "444b7ba3",
   "metadata": {},
   "source": [
    "### Question 2.1\n",
    "\n",
    "The pandas function `all_movies_df.duplicated(subset=['id'], keep=False)` will return a Series object for each row of `all_movies_df` that is `True` if the row is duplicated and `False` if otherwise. This is a known as a boolean mask.\n",
    "\n",
    "The `subset=['id']` argument means that duplicates are only compared by their `id`.\n",
    "\n",
    "The `keep=False` argument means all duplicates are marked (passing `keep=True` would return `False` for the first occurrence).\n",
    "\n",
    "* Use this mask to select all rows with duplicate `id`s.\n",
    "* How many duplicate entries are there?"
   ]
  },
  {
   "cell_type": "code",
   "execution_count": null,
   "id": "b794caf0",
   "metadata": {},
   "outputs": [],
   "source": [
    "duplicate_mask = ...\n",
    "\n",
    "duplicates_df = ..."
   ]
  },
  {
   "cell_type": "markdown",
   "id": "3c06b8e3",
   "metadata": {},
   "source": [
    "### Question 2.2\n",
    "\n",
    "Use the `drop_duplicates` method on `all_movies_df`, remove the duplicate movies from the dataset.\n",
    "\n",
    "Think about what `subset` of columns to use.\n",
    "\n",
    "* What happens if you use `subset='id'`?\n",
    "* What about no subset (i.e. all columns)?\n",
    "\n",
    "_HINT:_ Inspect the movie with `id` equal to `15028`. What do you notice?\n",
    "\n",
    "The next question will pinpoint the columns causing the problem."
   ]
  },
  {
   "cell_type": "code",
   "execution_count": null,
   "id": "8e5f9d20",
   "metadata": {},
   "outputs": [],
   "source": [
    "..."
   ]
  },
  {
   "cell_type": "markdown",
   "id": "c8399ba6",
   "metadata": {},
   "source": [
    "### [Optional] Question 2.3\n",
    "\n",
    "The code below aims to help with visually identifying the source of the problem.\n",
    "\n",
    "Instead of selecting all duplicates (of which there are a lot), this version selects columns with duplicate `id`s that are not exact duplicates of any column.\n",
    "\n",
    "Read and make sure you understand how the code works (explanation in comments).\n",
    "\n",
    "* Can you identify the problematic columns by inspecting the dataset?\n",
    "* Does this code capture all issues? _HINT_: Inspect the movie with `id` equal to `10991` in the original dataset.\n",
    "* Write code that finds all such columns that have different values for movies with the same `id`. You should use `duplicates_df` from the previous exercise for this part."
   ]
  },
  {
   "cell_type": "code",
   "execution_count": null,
   "id": "84753478",
   "metadata": {
    "scrolled": true
   },
   "outputs": [],
   "source": [
    "# Extract a mask for all rows that have duplicate `id`.\n",
    "#.  Keep the first one as \n",
    "duplicate_id_mask = all_movies_df.duplicated(subset=['id'], keep=False)\n",
    "\n",
    "# Extract a mask for all rows that are exact duplicates (along all columns).\n",
    "exact_duplicates_mask = all_movies_df.duplicated(keep=False)\n",
    "\n",
    "# Combine the two masks to create a single mask that is `True` if two rows have the same `id`\n",
    "#     BUT are not exact duplicates.\n",
    "compound_mask = duplicate_id_mask & ~exact_duplicates_mask\n",
    "\n",
    "# Extract all such rows and sort them by their id (so they appear next to each other when printed).\n",
    "compound_duplicates_df = all_movies_df.loc[compound_mask].sort_values('id')\n",
    "compound_duplicates_df"
   ]
  },
  {
   "cell_type": "code",
   "execution_count": null,
   "id": "00384886",
   "metadata": {},
   "outputs": [],
   "source": [
    "# Inspect the movie with `id` equal to 10991 in the original dataset"
   ]
  },
  {
   "cell_type": "code",
   "execution_count": null,
   "id": "4bb06e79",
   "metadata": {},
   "outputs": [],
   "source": [
    "# [Optional] Find all columns with inconsistent values.\n",
    "# HINT 1: You can use `pd.isna` to check if a value is null/missing.\n",
    "# HINT 2: You can use `all_movies_df.iterrows()` to iterate through the rows of a `DataFrame`.\n",
    "# HINT 3: You can use `<col>.nunique(dropna=False)` to find the number of unique values in a column (including NaNs).\n",
    "\n",
    "# True here means that the column has unique values for unique movie `id`s.\n",
    "cols_consistent = {\n",
    "    col: True\n",
    "    for col in duplicates_df.columns\n",
    "}\n",
    "\n",
    "..."
   ]
  }
 ],
 "metadata": {
  "kernelspec": {
   "display_name": "Python 3 (ipykernel)",
   "language": "python",
   "name": "python3"
  },
  "language_info": {
   "codemirror_mode": {
    "name": "ipython",
    "version": 3
   },
   "file_extension": ".py",
   "mimetype": "text/x-python",
   "name": "python",
   "nbconvert_exporter": "python",
   "pygments_lexer": "ipython3",
   "version": "3.10.8"
  }
 },
 "nbformat": 4,
 "nbformat_minor": 5
}
