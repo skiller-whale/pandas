{
 "cells": [
  {
   "cell_type": "markdown",
   "id": "22cad8d4",
   "metadata": {},
   "source": [
    "# Combining Data With Pandas\n",
    "\n",
    "This notebook contains exercises for 'Combining Data With Pandas'.\n",
    "\n",
    "<!-- **At the end of each exercise there are cells containing assert statements that you can use to check your answers.** -->"
   ]
  },
  {
   "cell_type": "code",
   "execution_count": null,
   "id": "86cbb675",
   "metadata": {},
   "outputs": [],
   "source": [
    "import pandas as pd\n",
    "import numpy as np\n",
    "%autosave 30"
   ]
  },
  {
   "cell_type": "markdown",
   "id": "47e8a767",
   "metadata": {},
   "source": [
    "## Exercise 2: Combining Records With Duplicates\n",
    "\n",
    "---\n",
    "\n",
    "In this exercise you will be working with a dataset of artists from the US region only.\n",
    "\n",
    "However, the US is a big place and the dataset has been split into two CSV files, loaded below.\n",
    "The filenames are also confusingly `us_artists` and `us_west_artists`.\n",
    "\n",
    "This unfortunately happens often. In this exercise you will filter and combine the two datasets."
   ]
  },
  {
   "cell_type": "code",
   "execution_count": null,
   "id": "c8e26c8e",
   "metadata": {},
   "outputs": [],
   "source": [
    "us_artists_df = pd.read_csv('../data/album_sales/us_artists.csv', index_col=0)\n",
    "us_west_artists_df = pd.read_csv('../data/album_sales/us_west_artists.csv', index_col=0)"
   ]
  },
  {
   "cell_type": "markdown",
   "id": "1833542a",
   "metadata": {},
   "source": [
    "### Question 2.0\n",
    "\n",
    "Before you begin, use `df.describe()` and `df.head()` to familiarize yourself with the `us_artists_df` and `us_west_artists_df` datasets."
   ]
  },
  {
   "cell_type": "code",
   "execution_count": null,
   "id": "ed2e802b",
   "metadata": {},
   "outputs": [],
   "source": [
    "..."
   ]
  },
  {
   "cell_type": "markdown",
   "id": "3b450e5b",
   "metadata": {},
   "source": [
    "### Question 2.1\n",
    "\n",
    "Using `pd.concat`, combine `us_west_artists_df` and `us_artists_df`.\n",
    "\n",
    "* Do you notice anything wrong (no need to fix it for now)?"
   ]
  },
  {
   "cell_type": "code",
   "execution_count": null,
   "id": "3d0f7a0f",
   "metadata": {},
   "outputs": [],
   "source": [
    "all_us_artists_df = ..."
   ]
  },
  {
   "cell_type": "markdown",
   "id": "55afe542",
   "metadata": {},
   "source": [
    "### Question 2.2\n",
    "\n",
    "Using `drop_duplicates`, remove the duplicates from `all_us_artists_df`.\n",
    "\n",
    "Think carefully about which subset of columns you need to consider.\n",
    "\n",
    "Once done, you might also need to reset the index of the `DataFrame`.\n",
    "\n",
    "_HINT: It's easier not to use `inplace=True` so that you don't override the original dataset._"
   ]
  },
  {
   "cell_type": "code",
   "execution_count": null,
   "id": "f6dc37df",
   "metadata": {},
   "outputs": [],
   "source": [
    "..."
   ]
  }
 ],
 "metadata": {
  "kernelspec": {
   "display_name": "Python 3 (ipykernel)",
   "language": "python",
   "name": "python3"
  },
  "language_info": {
   "codemirror_mode": {
    "name": "ipython",
    "version": 3
   },
   "file_extension": ".py",
   "mimetype": "text/x-python",
   "name": "python",
   "nbconvert_exporter": "python",
   "pygments_lexer": "ipython3",
   "version": "3.10.8"
  }
 },
 "nbformat": 4,
 "nbformat_minor": 5
}
