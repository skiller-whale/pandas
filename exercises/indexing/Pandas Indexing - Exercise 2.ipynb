{
 "cells": [
  {
   "cell_type": "markdown",
   "id": "22cad8d4",
   "metadata": {},
   "source": [
    "# Pandas Indexing\n",
    "\n",
    "This notebook contains exercises for Pandas Indexing.\n",
    "\n",
    "**At the end of each exercise there are cells containing assert statements that you can use to check your answers.**"
   ]
  },
  {
   "cell_type": "code",
   "execution_count": null,
   "id": "86cbb675",
   "metadata": {},
   "outputs": [],
   "source": [
    "import pandas as pd\n",
    "import numpy as np\n",
    "from utils.dataset_loader import load_movies_dataset\n",
    "%autosave 30"
   ]
  },
  {
   "cell_type": "markdown",
   "id": "e8faabac",
   "metadata": {},
   "source": [
    "## Exercise 2: Label-Based Indexing With `loc`\n",
    "\n",
    "---\n",
    "\n",
    "This exercise has the same queries as `exercise_1`. Instead of using `iloc`, you will now use `loc` to answer them.\n",
    "\n",
    "For each exercise, thing about whether using `loc` more or less difficult on some queries?\n",
    "\n",
    "* Discuss this with your coach."
   ]
  },
  {
   "cell_type": "code",
   "execution_count": null,
   "id": "6ffb9f6b",
   "metadata": {},
   "outputs": [],
   "source": [
    "movies_df = load_movies_dataset()"
   ]
  },
  {
   "cell_type": "markdown",
   "id": "03c4ddd1",
   "metadata": {},
   "source": [
    "### Question 2.1\n",
    "\n",
    "Select the revenue and budget of the first 100 movies.\n",
    "\n",
    "_HINT: Inspect the index of `movies_df`. You will need to adjust the range of `loc` accordingly."
   ]
  },
  {
   "cell_type": "code",
   "execution_count": null,
   "id": "d7090abd",
   "metadata": {},
   "outputs": [],
   "source": [
    "revenue_budget_first_100 = ..."
   ]
  },
  {
   "cell_type": "markdown",
   "id": "273b0582",
   "metadata": {},
   "source": [
    "### Question 2.2\n",
    "\n",
    "Select the the movie at index 271."
   ]
  },
  {
   "cell_type": "code",
   "execution_count": null,
   "id": "ef50eea5",
   "metadata": {},
   "outputs": [],
   "source": [
    "movie_271 = ..."
   ]
  },
  {
   "cell_type": "markdown",
   "id": "978f4a7c",
   "metadata": {},
   "source": [
    "### Question 2.3\n",
    "\n",
    "Select all columns of the LAST 200 movies, EXCEPT the `popularity` column."
   ]
  },
  {
   "cell_type": "code",
   "execution_count": null,
   "id": "8c8894af",
   "metadata": {},
   "outputs": [],
   "source": [
    "last_200_movies_except_popularity = ..."
   ]
  },
  {
   "cell_type": "markdown",
   "id": "dd3f43fc",
   "metadata": {},
   "source": [
    "#### Run these cells after finishing the exercise questions to check your answers. "
   ]
  },
  {
   "cell_type": "code",
   "execution_count": null,
   "id": "cb571553",
   "metadata": {},
   "outputs": [],
   "source": [
    "assert revenue_budget_first_100.shape == (100, 2), \"Shape of revenue_budget_first_100 is wrong!\""
   ]
  },
  {
   "cell_type": "code",
   "execution_count": null,
   "id": "5245c1bf",
   "metadata": {},
   "outputs": [],
   "source": [
    "assert movie_271.title == 'The Land', \"Wrong movie_271 title.\""
   ]
  },
  {
   "cell_type": "code",
   "execution_count": null,
   "id": "adb9a3ac",
   "metadata": {},
   "outputs": [],
   "source": [
    "assert last_200_movies_except_popularity.shape == (200, 8), \"Shape of last_200_movies_except_popularity is wrong!\""
   ]
  },
  {
   "cell_type": "markdown",
   "id": "d7343d18",
   "metadata": {},
   "source": [
    "### Question 2.4\n",
    "\n",
    "Select the the most popular movie in the dataset.\n",
    "You can do this in three steps:\n",
    "\n",
    "1. Select the 'popularity' column, which is a `Series`.\n",
    "2. Use on `popularity_series.idxmax()` to find the index of the most popular movie.\n",
    "3. Select the movie with that index using `loc`."
   ]
  },
  {
   "cell_type": "code",
   "execution_count": null,
   "id": "b8f01c90",
   "metadata": {},
   "outputs": [],
   "source": [
    "popularity_series = ...\n",
    "most_popular_index = ...\n",
    "most_popular_movie = ..."
   ]
  },
  {
   "cell_type": "markdown",
   "id": "95de39b5",
   "metadata": {},
   "source": [
    "### Question 2.5\n",
    "\n",
    "Was using `loc` more or less difficult on some queries?\n",
    "* Discuss this with your coach."
   ]
  }
 ],
 "metadata": {
  "kernelspec": {
   "display_name": "Python 3 (ipykernel)",
   "language": "python",
   "name": "python3"
  },
  "language_info": {
   "codemirror_mode": {
    "name": "ipython",
    "version": 3
   },
   "file_extension": ".py",
   "mimetype": "text/x-python",
   "name": "python",
   "nbconvert_exporter": "python",
   "pygments_lexer": "ipython3",
   "version": "3.10.8"
  }
 },
 "nbformat": 4,
 "nbformat_minor": 5
}
