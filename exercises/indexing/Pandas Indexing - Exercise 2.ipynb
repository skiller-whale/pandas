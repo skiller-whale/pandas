{
 "cells": [
  {
   "cell_type": "markdown",
   "id": "22cad8d4",
   "metadata": {},
   "source": [
    "# Pandas Indexing\n",
    "\n",
    "This notebook contains exercises for Pandas Indexing.\n",
    "\n",
    "**At the end of each exercise there are cells containing assert statements that you can use to check your answers.**"
   ]
  },
  {
   "cell_type": "code",
   "execution_count": null,
   "id": "86cbb675",
   "metadata": {},
   "outputs": [],
   "source": [
    "import pandas as pd\n",
    "import numpy as np\n",
    "from utils.dataset_loader import load_whale_dataset\n",
    "%autosave 30"
   ]
  },
  {
   "cell_type": "markdown",
   "id": "e8faabac",
   "metadata": {},
   "source": [
    "## Exercise 2: Label-Based Indexing With `loc`\n",
    "\n",
    "---\n",
    "\n",
    "This exercise has the same queries as `exercise_1`. Instead of using `iloc`, you will now use `loc` to answer them.\n",
    "\n",
    "For each exercise, thing about whether using `loc` more or less difficult on some queries?\n",
    "\n",
    "* Discuss this with your coach."
   ]
  },
  {
   "cell_type": "code",
   "execution_count": null,
   "id": "6ffb9f6b",
   "metadata": {},
   "outputs": [],
   "source": [
    "whale_df = load_whale_dataset()"
   ]
  },
  {
   "cell_type": "markdown",
   "id": "03c4ddd1",
   "metadata": {},
   "source": [
    "### Question 2.1\n",
    "\n",
    "Select the age and whale_type of the first 100 whales."
   ]
  },
  {
   "cell_type": "code",
   "execution_count": null,
   "id": "d7090abd",
   "metadata": {},
   "outputs": [],
   "source": [
    "age_whale_type_first_100 = ..."
   ]
  },
  {
   "cell_type": "markdown",
   "id": "273b0582",
   "metadata": {},
   "source": [
    "### Question 2.2\n",
    "\n",
    "Select the weight of whale number 567"
   ]
  },
  {
   "cell_type": "code",
   "execution_count": null,
   "id": "68a0df65",
   "metadata": {},
   "outputs": [],
   "source": [
    "whale_567_weight = ..."
   ]
  },
  {
   "cell_type": "markdown",
   "id": "978f4a7c",
   "metadata": {},
   "source": [
    "### Question 2.3\n",
    "\n",
    "Select all columns of the LAST 200 whales, EXCEPT the `whale_type` column"
   ]
  },
  {
   "cell_type": "code",
   "execution_count": null,
   "id": "8c8894af",
   "metadata": {},
   "outputs": [],
   "source": [
    "last_200_whales_except_whale_type = ..."
   ]
  },
  {
   "cell_type": "markdown",
   "id": "d7343d18",
   "metadata": {},
   "source": [
    "### Question 2.4\n",
    "\n",
    "Select the index of the largest whale (in size) in the dataset.\n",
    "You can do this in two steps:\n",
    "\n",
    "* Select the 'size' column, which is a `Series`.\n",
    "* Use `idxmax` on `whale_sizes` to find the index of the largest whale."
   ]
  },
  {
   "cell_type": "code",
   "execution_count": null,
   "id": "b8f01c90",
   "metadata": {},
   "outputs": [],
   "source": [
    "whale_sizes = ...\n",
    "largest_whale_index = ..."
   ]
  },
  {
   "cell_type": "markdown",
   "id": "95de39b5",
   "metadata": {},
   "source": [
    "### Question 2.5\n",
    "\n",
    "Was using `loc` more or less difficult on some queries?\n",
    "* Discuss this with your coach."
   ]
  },
  {
   "cell_type": "markdown",
   "id": "c249f594",
   "metadata": {},
   "source": [
    "#### Run these cells after finishing the exercise questions to check your answers. "
   ]
  },
  {
   "cell_type": "code",
   "execution_count": null,
   "id": "1f24a9f5",
   "metadata": {},
   "outputs": [],
   "source": [
    "assert age_whale_type_first_100.shape == (100, 2), \"Shape of age_whale_type_first_100 is wrong!\""
   ]
  },
  {
   "cell_type": "code",
   "execution_count": null,
   "id": "20283c99",
   "metadata": {},
   "outputs": [],
   "source": [
    "assert np.isclose(whale_567_weight, 6.641571451865368, rtol=1e-6), \"Weight of whale 567 is wrong!\""
   ]
  },
  {
   "cell_type": "code",
   "execution_count": null,
   "id": "4dd5d164",
   "metadata": {},
   "outputs": [],
   "source": [
    "assert last_200_whales_except_whale_type.shape == (200, 4), \"Shape of last_200_whales_except_whale_type is wrong!\""
   ]
  },
  {
   "cell_type": "code",
   "execution_count": null,
   "id": "885c8eaa",
   "metadata": {},
   "outputs": [],
   "source": [
    "assert largest_whale_index == 2045, \"Wrong largest whale selected!\""
   ]
  }
 ],
 "metadata": {
  "kernelspec": {
   "display_name": "Python 3 (ipykernel)",
   "language": "python",
   "name": "python3"
  },
  "language_info": {
   "codemirror_mode": {
    "name": "ipython",
    "version": 3
   },
   "file_extension": ".py",
   "mimetype": "text/x-python",
   "name": "python",
   "nbconvert_exporter": "python",
   "pygments_lexer": "ipython3",
   "version": "3.10.8"
  }
 },
 "nbformat": 4,
 "nbformat_minor": 5
}
