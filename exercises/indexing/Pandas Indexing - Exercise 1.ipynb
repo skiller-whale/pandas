{
 "cells": [
  {
   "cell_type": "markdown",
   "id": "22cad8d4",
   "metadata": {},
   "source": [
    "# Pandas Indexing\n",
    "\n",
    "This notebook contains exercises for Pandas Indexing.\n",
    "\n",
    "**At the end of each exercise there are cells containing assert statements that you can use to check your answers.**"
   ]
  },
  {
   "cell_type": "code",
   "execution_count": null,
   "id": "86cbb675",
   "metadata": {},
   "outputs": [],
   "source": [
    "import pandas as pd\n",
    "import numpy as np\n",
    "from utils.dataset_loader import load_whale_dataset\n",
    "%autosave 30"
   ]
  },
  {
   "cell_type": "markdown",
   "id": "e116db99",
   "metadata": {},
   "source": [
    "## Exercise 1: Positional Indexing With `iloc`\n",
    "\n",
    "---\n",
    "\n",
    "The code below loads a (fake) dataset of whales.\n",
    "You will now use pandas to extract some information from the dataset."
   ]
  },
  {
   "cell_type": "code",
   "execution_count": null,
   "id": "4bb63b3d",
   "metadata": {},
   "outputs": [],
   "source": [
    "whale_df = load_whale_dataset()"
   ]
  },
  {
   "cell_type": "markdown",
   "id": "9915851f",
   "metadata": {},
   "source": [
    "### Question 1.0\n",
    "\n",
    "Before you begin, use `whale_df.head()` and `whale_df.describe()` to examine the dataset."
   ]
  },
  {
   "cell_type": "code",
   "execution_count": null,
   "id": "3fd9cf45",
   "metadata": {},
   "outputs": [],
   "source": [
    "..."
   ]
  },
  {
   "cell_type": "markdown",
   "id": "e41582e4",
   "metadata": {},
   "source": [
    "### Question 1.1\n",
    "\n",
    "Select the age and whale_type of the first 100 whales."
   ]
  },
  {
   "cell_type": "code",
   "execution_count": null,
   "id": "ab756b93",
   "metadata": {},
   "outputs": [],
   "source": [
    "age_whale_type_first_100 = ..."
   ]
  },
  {
   "cell_type": "markdown",
   "id": "61ed3605",
   "metadata": {},
   "source": [
    "### Question 1.2\n",
    "\n",
    "Select the weight of the whale at position 567"
   ]
  },
  {
   "cell_type": "code",
   "execution_count": null,
   "id": "39eb441e",
   "metadata": {},
   "outputs": [],
   "source": [
    "whale_567_weight = ..."
   ]
  },
  {
   "cell_type": "markdown",
   "id": "8bfa5e05",
   "metadata": {},
   "source": [
    "### Question 1.3\n",
    "\n",
    "Select all columns of the LAST 200 whales, EXCEPT the `whale_type` column."
   ]
  },
  {
   "cell_type": "code",
   "execution_count": null,
   "id": "112c7d1a",
   "metadata": {},
   "outputs": [],
   "source": [
    "last_200_whales_except_whale_type = ..."
   ]
  },
  {
   "cell_type": "markdown",
   "id": "f3268de0",
   "metadata": {},
   "source": [
    "### Question 1.4\n",
    "\n",
    "Select the index of the largest whale (in size) in the dataset.\n",
    "You can do this in two steps:\n",
    "\n",
    "* Select the 'size' column, which is a `Series`.\n",
    "* Use `idxmax` on `whale_sizes` to find the index of the largest whale."
   ]
  },
  {
   "cell_type": "code",
   "execution_count": null,
   "id": "dc933cf4",
   "metadata": {},
   "outputs": [],
   "source": [
    "whale_sizes = ...\n",
    "largest_whale_index = ..."
   ]
  },
  {
   "cell_type": "markdown",
   "id": "f3c58ff4",
   "metadata": {},
   "source": [
    "#### Run these cells after finishing the exercise questions to check your answers. "
   ]
  },
  {
   "cell_type": "code",
   "execution_count": null,
   "id": "1dbd0a9d",
   "metadata": {},
   "outputs": [],
   "source": [
    "assert age_whale_type_first_100.shape == (100, 2), \"Shape of age_whale_type_first_100 is wrong!\""
   ]
  },
  {
   "cell_type": "code",
   "execution_count": null,
   "id": "be43742f",
   "metadata": {},
   "outputs": [],
   "source": [
    "assert np.isclose(whale_567_weight, 6.641571451865368, rtol=1e-6), \"Weight of whale 567 is wrong!\""
   ]
  },
  {
   "cell_type": "code",
   "execution_count": null,
   "id": "df5742c0",
   "metadata": {},
   "outputs": [],
   "source": [
    "assert last_200_whales_except_whale_type.shape == (200, 4), \"Shape of last_200_whales_except_whale_type is wrong!\""
   ]
  },
  {
   "cell_type": "code",
   "execution_count": null,
   "id": "cbc235f0",
   "metadata": {},
   "outputs": [],
   "source": [
    "assert largest_whale_index == 2045, \"Wrong largest whale selected!\""
   ]
  }
 ],
 "metadata": {
  "kernelspec": {
   "display_name": "Python 3 (ipykernel)",
   "language": "python",
   "name": "python3"
  },
  "language_info": {
   "codemirror_mode": {
    "name": "ipython",
    "version": 3
   },
   "file_extension": ".py",
   "mimetype": "text/x-python",
   "name": "python",
   "nbconvert_exporter": "python",
   "pygments_lexer": "ipython3",
   "version": "3.10.8"
  }
 },
 "nbformat": 4,
 "nbformat_minor": 5
}
