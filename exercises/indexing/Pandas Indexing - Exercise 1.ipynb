{
 "cells": [
  {
   "cell_type": "markdown",
   "id": "22cad8d4",
   "metadata": {},
   "source": [
    "# Pandas Indexing\n",
    "\n",
    "This notebook contains exercises for Pandas Indexing.\n",
    "\n",
    "**At the end of each exercise there are cells containing assert statements that you can use to check your answers.**"
   ]
  },
  {
   "cell_type": "code",
   "execution_count": null,
   "id": "86cbb675",
   "metadata": {},
   "outputs": [],
   "source": [
    "import pandas as pd\n",
    "import numpy as np\n",
    "from utils.dataset_loader import load_movies_dataset\n",
    "%autosave 30"
   ]
  },
  {
   "cell_type": "markdown",
   "id": "e116db99",
   "metadata": {},
   "source": [
    "## Exercise 1: Positional Indexing With `iloc`\n",
    "\n",
    "---\n",
    "\n",
    "The code below loads a dataset of movies.\n",
    "You will now use pandas to extract some information from the dataset."
   ]
  },
  {
   "cell_type": "code",
   "execution_count": null,
   "id": "4bb63b3d",
   "metadata": {},
   "outputs": [],
   "source": [
    "movies_df = load_movies_dataset()"
   ]
  },
  {
   "cell_type": "markdown",
   "id": "9915851f",
   "metadata": {},
   "source": [
    "### Question 1.0\n",
    "\n",
    "Before you begin, use `movies_df.describe()` to examine the dataset (run the cell below)."
   ]
  },
  {
   "cell_type": "code",
   "execution_count": null,
   "id": "bffdbb64",
   "metadata": {},
   "outputs": [],
   "source": [
    "movies_df.describe()"
   ]
  },
  {
   "cell_type": "markdown",
   "id": "e41582e4",
   "metadata": {},
   "source": [
    "### Question 1.1\n",
    "\n",
    "Select the revenue and budget of the first 100 movies.\n",
    "\n",
    "* What do you notice about these two columns? Can you explain this briefly? (no need to write code for this part)"
   ]
  },
  {
   "cell_type": "code",
   "execution_count": null,
   "id": "d8134a35",
   "metadata": {},
   "outputs": [],
   "source": [
    "revenue_budget_first_100 = ..."
   ]
  },
  {
   "cell_type": "markdown",
   "id": "61ed3605",
   "metadata": {},
   "source": [
    "### Question 1.2\n",
    "\n",
    "Select the the movie at index 271."
   ]
  },
  {
   "cell_type": "code",
   "execution_count": null,
   "id": "30a598db",
   "metadata": {},
   "outputs": [],
   "source": [
    "movie_271 = ..."
   ]
  },
  {
   "cell_type": "markdown",
   "id": "8bfa5e05",
   "metadata": {},
   "source": [
    "### Question 1.3\n",
    "\n",
    "Select all columns of the LAST 200 movies, EXCEPT the `popularity` column."
   ]
  },
  {
   "cell_type": "code",
   "execution_count": null,
   "id": "112c7d1a",
   "metadata": {},
   "outputs": [],
   "source": [
    "last_200_movies_except_popularity = ..."
   ]
  },
  {
   "cell_type": "markdown",
   "id": "f2d9d18d",
   "metadata": {},
   "source": [
    "#### Run these cells after finishing the exercise questions to check your answers. "
   ]
  },
  {
   "cell_type": "code",
   "execution_count": null,
   "id": "27a653cb",
   "metadata": {},
   "outputs": [],
   "source": [
    "assert revenue_budget_first_100.shape == (100, 2), \"Shape of revenue_budget_first_100 is wrong!\""
   ]
  },
  {
   "cell_type": "code",
   "execution_count": null,
   "id": "4c1960f2",
   "metadata": {},
   "outputs": [],
   "source": [
    "assert movie_271.title == 'The Land', \"Wrong movie_271 title.\""
   ]
  },
  {
   "cell_type": "code",
   "execution_count": null,
   "id": "f2ed6b4f",
   "metadata": {},
   "outputs": [],
   "source": [
    "assert last_200_movies_except_popularity.shape == (200, 8), \"Shape of last_200_movies_except_popularity is wrong!\""
   ]
  },
  {
   "cell_type": "markdown",
   "id": "f3268de0",
   "metadata": {},
   "source": [
    "### Question 1.4\n",
    "\n",
    "Select the the most popular movie in the dataset.\n",
    "You can do this in three steps:\n",
    "\n",
    "1. Select the 'popularity' column, which is a `Series`.\n",
    "2. Use on `popularity_series.idxmax()` to find the index of the most popular movie.\n",
    "3. Select the movie with that index using `iloc`.\n",
    "\n",
    "After you're done, inspect the answer you obtain.\n",
    "\n",
    "* What's the popularity of this movie?\n",
    "* Now select a few rows before and after the index of the most popular movie. Do you notice something wrong (in terms of popularity)?\n",
    "* Can you explain and fix what went wrong?\n",
    "\n",
    "_HINT: Inspect the index of the `DataFrame`. You can access it by `movies_df.index`._"
   ]
  },
  {
   "cell_type": "code",
   "execution_count": null,
   "id": "dc933cf4",
   "metadata": {},
   "outputs": [],
   "source": [
    "popularity_series = ...\n",
    "most_popular_index = ...\n",
    "most_popular_movie = ..."
   ]
  }
 ],
 "metadata": {
  "kernelspec": {
   "display_name": "Python 3 (ipykernel)",
   "language": "python",
   "name": "python3"
  },
  "language_info": {
   "codemirror_mode": {
    "name": "ipython",
    "version": 3
   },
   "file_extension": ".py",
   "mimetype": "text/x-python",
   "name": "python",
   "nbconvert_exporter": "python",
   "pygments_lexer": "ipython3",
   "version": "3.10.8"
  }
 },
 "nbformat": 4,
 "nbformat_minor": 5
}
