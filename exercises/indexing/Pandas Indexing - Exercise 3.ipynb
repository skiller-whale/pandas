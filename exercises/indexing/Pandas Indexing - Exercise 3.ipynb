{
 "cells": [
  {
   "cell_type": "markdown",
   "id": "22cad8d4",
   "metadata": {},
   "source": [
    "# Pandas Indexing\n",
    "\n",
    "This notebook contains exercises for Pandas Indexing.\n",
    "\n",
    "**At the end of each exercise there are cells containing assert statements that you can use to check your answers.**"
   ]
  },
  {
   "cell_type": "code",
   "execution_count": null,
   "id": "86cbb675",
   "metadata": {},
   "outputs": [],
   "source": [
    "import pandas as pd\n",
    "import numpy as np\n",
    "from utils.dataset_loader import load_movies_dataset\n",
    "%autosave 30"
   ]
  },
  {
   "cell_type": "markdown",
   "id": "95f290f4",
   "metadata": {},
   "source": [
    "## Exercise 3: Chained Indexing\n",
    "\n",
    "---\n",
    "\n",
    "This exercise has the same queries as the previous exercises.\n",
    "    Write the same queries using chained indexing, combining `[]`, `loc`, or `iloc.\n",
    "\n",
    "Once you've finished the exercise, think about the order of indexing (no need to rewrite anything).\n",
    "\n",
    "Would you use chain indexing in the first place for these queries?\n",
    "* Discuss this with your coach."
   ]
  },
  {
   "cell_type": "code",
   "execution_count": null,
   "id": "072ab179",
   "metadata": {},
   "outputs": [],
   "source": [
    "movies_df = load_movies_dataset()"
   ]
  },
  {
   "cell_type": "markdown",
   "id": "868606b9",
   "metadata": {},
   "source": [
    "### Question 3.1\n",
    "\n",
    "Select the revenue and budget of the first 100 movies."
   ]
  },
  {
   "cell_type": "code",
   "execution_count": null,
   "id": "04c4448a",
   "metadata": {},
   "outputs": [],
   "source": [
    "revenue_budget_first_100 = ..."
   ]
  },
  {
   "cell_type": "markdown",
   "id": "73bf462b",
   "metadata": {},
   "source": [
    "### Question 3.2\n",
    "\n",
    "Select all columns of the LAST 200 movies, EXCEPT the `popularity` column."
   ]
  },
  {
   "cell_type": "code",
   "execution_count": null,
   "id": "2b9d2fb5",
   "metadata": {},
   "outputs": [],
   "source": [
    "last_200_movies_except_popularity = ..."
   ]
  },
  {
   "cell_type": "markdown",
   "id": "a802a702",
   "metadata": {},
   "source": [
    "### Question 3.3\n",
    "\n",
    "Think about the order of indexing (no need to rewrite anything).\n",
    "\n",
    "Would you use chain indexing in the first place for these queries?\n",
    "\n",
    "* Discuss this with your coach."
   ]
  },
  {
   "cell_type": "markdown",
   "id": "dd3f43fc",
   "metadata": {},
   "source": [
    "#### Run these cells after finishing the exercise questions to check your answers. "
   ]
  },
  {
   "cell_type": "code",
   "execution_count": null,
   "id": "cb571553",
   "metadata": {},
   "outputs": [],
   "source": [
    "assert revenue_budget_first_100.shape == (100, 2), \"Shape of revenue_budget_first_100 is wrong!\""
   ]
  },
  {
   "cell_type": "code",
   "execution_count": null,
   "id": "adb9a3ac",
   "metadata": {},
   "outputs": [],
   "source": [
    "assert last_200_movies_except_popularity.shape == (200, 8), \"Shape of last_200_movies_except_popularity is wrong!\""
   ]
  }
 ],
 "metadata": {
  "kernelspec": {
   "display_name": "Python 3 (ipykernel)",
   "language": "python",
   "name": "python3"
  },
  "language_info": {
   "codemirror_mode": {
    "name": "ipython",
    "version": 3
   },
   "file_extension": ".py",
   "mimetype": "text/x-python",
   "name": "python",
   "nbconvert_exporter": "python",
   "pygments_lexer": "ipython3",
   "version": "3.10.8"
  }
 },
 "nbformat": 4,
 "nbformat_minor": 5
}
