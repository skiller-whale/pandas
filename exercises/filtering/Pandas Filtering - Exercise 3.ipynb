{
 "cells": [
  {
   "cell_type": "markdown",
   "id": "bb341feb",
   "metadata": {},
   "source": [
    "# Filtering Data With Pandas"
   ]
  },
  {
   "cell_type": "code",
   "execution_count": null,
   "id": "65c47183",
   "metadata": {},
   "outputs": [],
   "source": [
    "import numpy as np\n",
    "from utils.dataset_loader import load_whale_dataset\n",
    "%autosave 30"
   ]
  },
  {
   "cell_type": "markdown",
   "id": "8035f01c",
   "metadata": {},
   "source": [
    "## Exercise 3, Part 1: Filtering With `loc` and `iloc`\n",
    "\n",
    "---\n",
    "\n",
    "In this exercise you will write the same queries as exercise_2, this time using `loc` and `iloc` instead of `[]`."
   ]
  },
  {
   "cell_type": "code",
   "execution_count": null,
   "id": "a426eef6",
   "metadata": {},
   "outputs": [],
   "source": [
    "whale_df = load_whale_dataset()"
   ]
  },
  {
   "cell_type": "markdown",
   "id": "b6e39647",
   "metadata": {},
   "source": [
    "### Question 3.1\n",
    "\n",
    "Find out how many 'humpback' whales older than '30' there are."
   ]
  },
  {
   "cell_type": "code",
   "execution_count": null,
   "id": "b1ef1aac",
   "metadata": {},
   "outputs": [],
   "source": [
    "number_of_humpback_whales_older_than_30 = ..."
   ]
  },
  {
   "cell_type": "markdown",
   "id": "ef8ee267",
   "metadata": {},
   "source": [
    "### Question 3.2\n",
    "\n",
    "Find out how many non-'humpback' whales aged '114' there are."
   ]
  },
  {
   "cell_type": "code",
   "execution_count": null,
   "id": "1b63bb29",
   "metadata": {},
   "outputs": [],
   "source": [
    "number_of_non_humpback_whales_aged_114 = ..."
   ]
  },
  {
   "cell_type": "markdown",
   "id": "30522bef",
   "metadata": {},
   "source": [
    "### Question 3.3\n",
    "\n",
    "Find out the  age of the oldest female narwhal.\n",
    "\n",
    "*HINT: You can use the function `df[<colname>].max` to select the maximum value of the column `<colname>`.*"
   ]
  },
  {
   "cell_type": "code",
   "execution_count": null,
   "id": "160fbb45",
   "metadata": {},
   "outputs": [],
   "source": [
    "age_of_oldest_female_narwhal = ..."
   ]
  },
  {
   "cell_type": "markdown",
   "id": "732774b3",
   "metadata": {},
   "source": [
    "#### Run these cells after finishing the exercise questions to check your answers. "
   ]
  },
  {
   "cell_type": "code",
   "execution_count": null,
   "id": "2c50b285",
   "metadata": {},
   "outputs": [],
   "source": [
    "assert number_of_humpback_whales_older_than_30 == 1414, \\\n",
    "    f\"Wrong number of humpback whales older than 30 - {number_of_humpback_whales_older_than_30}!\""
   ]
  },
  {
   "cell_type": "code",
   "execution_count": null,
   "id": "f061aa61",
   "metadata": {},
   "outputs": [],
   "source": [
    "assert number_of_non_humpback_whales_aged_114 == 13, \\\n",
    "    f\"Wrong number of non-humpback whales aged 114 - {number_of_non_humpback_whales_aged_114}!\""
   ]
  },
  {
   "cell_type": "code",
   "execution_count": null,
   "id": "d0d5f22a",
   "metadata": {},
   "outputs": [],
   "source": [
    "assert age_of_oldest_female_narwhal == 114, \\\n",
    "    f\"Wrong age of oldest narwhal - {age_of_oldest_female_narwhal}!\""
   ]
  },
  {
   "cell_type": "markdown",
   "id": "d8f01ab9",
   "metadata": {},
   "source": [
    "## Exercise 3, Part 2: Multiple Conditions, Wrong Dimension\n",
    "\n",
    "---\n",
    "\n",
    "Currently the weight of male humpback whales is in kilograms (kg.), while for other whales it's in tonnes (1 tonne == 1000 kg.)"
   ]
  },
  {
   "cell_type": "markdown",
   "id": "d224e12b",
   "metadata": {},
   "source": [
    "### Question 3.4\n",
    "\n",
    "Set the weight of humpback whales to tonnes."
   ]
  },
  {
   "cell_type": "code",
   "execution_count": null,
   "id": "86996b3a",
   "metadata": {},
   "outputs": [],
   "source": [
    "# YOUR CODE GOES HERE"
   ]
  },
  {
   "cell_type": "code",
   "execution_count": null,
   "id": "3c1fcfd4",
   "metadata": {},
   "outputs": [],
   "source": [
    "# Run this cell after finishing the exercise questions to check your answers.\n",
    "\n",
    "assert (whale_df.loc[:, 'weight'] < 100).all(), \"Some weights are still in tonnes!\""
   ]
  },
  {
   "cell_type": "markdown",
   "id": "55b4087f",
   "metadata": {},
   "source": [
    "## Exercise 3, Part 3: Putting it all Together\n",
    "\n",
    "---\n",
    "\n",
    "You will now use all you've learned to answer some more complex questions about whales with the power of Pandas!"
   ]
  },
  {
   "cell_type": "markdown",
   "id": "de9d9b75",
   "metadata": {},
   "source": [
    "### Question 3.5\n",
    "\n",
    "What's the age of the youngest humpback whale that has size > 10 meters?"
   ]
  },
  {
   "cell_type": "code",
   "execution_count": null,
   "id": "4b3c764a",
   "metadata": {},
   "outputs": [],
   "source": [
    "young_humpb_longer_than_10 = ..."
   ]
  },
  {
   "cell_type": "markdown",
   "id": "0a9b3ac6",
   "metadata": {},
   "source": [
    "### Question 3.6\n",
    "\n",
    "What's the mean weight of narwhals with age > 30?\n",
    "\n",
    "*HINT: You can use the `mean` function.*"
   ]
  },
  {
   "cell_type": "code",
   "execution_count": null,
   "id": "ad9cad74",
   "metadata": {},
   "outputs": [],
   "source": [
    "narwhals_older_than_30_mean_weight = ..."
   ]
  },
  {
   "cell_type": "markdown",
   "id": "1558e708",
   "metadata": {},
   "source": [
    "### Question 3.7\n",
    "What's the age of the heaviest orca?\n",
    "\n",
    "*HINT: You can use either `sort_values(by='weight', ascending=False)` to sort orcas OR you can use `idxmax` to find the index of the heaviest.*"
   ]
  },
  {
   "cell_type": "code",
   "execution_count": null,
   "id": "4c5c74e4",
   "metadata": {},
   "outputs": [],
   "source": [
    "heaviest_orca_age = ..."
   ]
  },
  {
   "cell_type": "markdown",
   "id": "6053af0c",
   "metadata": {},
   "source": [
    "#### Run these cells after finishing the exercise questions to check your answers. "
   ]
  },
  {
   "cell_type": "code",
   "execution_count": null,
   "id": "85748928",
   "metadata": {},
   "outputs": [],
   "source": [
    "assert heaviest_orca_age == 8, f\"Wrong heaviest orca age - {heaviest_orca_age}!\""
   ]
  },
  {
   "cell_type": "code",
   "execution_count": null,
   "id": "adffa113",
   "metadata": {},
   "outputs": [],
   "source": [
    "assert young_humpb_longer_than_10 == 5, \\\n",
    "    f\"Wrong age of youngest humpback longer than 10m - {young_humpb_longer_than_10}.\""
   ]
  },
  {
   "cell_type": "code",
   "execution_count": null,
   "id": "dabdeca9",
   "metadata": {},
   "outputs": [],
   "source": [
    "assert np.isclose(narwhals_older_than_30_mean_weight, 1.1897714531340777, rtol=1e-5), \\\n",
    "    f\"Wrong mean weight of narwhals older than 30 - {narwhals_older_than_30_mean_weight:.5f}!\""
   ]
  }
 ],
 "metadata": {
  "kernelspec": {
   "display_name": "Python 3 (ipykernel)",
   "language": "python",
   "name": "python3"
  },
  "language_info": {
   "codemirror_mode": {
    "name": "ipython",
    "version": 3
   },
   "file_extension": ".py",
   "mimetype": "text/x-python",
   "name": "python",
   "nbconvert_exporter": "python",
   "pygments_lexer": "ipython3",
   "version": "3.10.8"
  }
 },
 "nbformat": 4,
 "nbformat_minor": 5
}
