{
 "cells": [
  {
   "cell_type": "markdown",
   "id": "bb341feb",
   "metadata": {},
   "source": [
    "# Filtering Data With Pandas\n",
    "\n",
    "This notebook contains exercises for Pandas Filtering.\n",
    "\n",
    "**At the end of each exercise there are cells containing assert statements that you can use to check your answers.**"
   ]
  },
  {
   "cell_type": "code",
   "execution_count": null,
   "id": "65c47183",
   "metadata": {},
   "outputs": [],
   "source": [
    "import numpy as np\n",
    "import pandas as pd\n",
    "from utils.dataset_loader import load_movies_dataset\n",
    "%autosave 30"
   ]
  },
  {
   "cell_type": "markdown",
   "id": "8035f01c",
   "metadata": {},
   "source": [
    "## Exercise 3, Part 1: Filtering With `loc` and `iloc`\n",
    "\n",
    "---\n",
    "\n",
    "In this exercise you will write compound queries using `loc` and `iloc` instead of `[]`."
   ]
  },
  {
   "cell_type": "code",
   "execution_count": null,
   "id": "a426eef6",
   "metadata": {},
   "outputs": [],
   "source": [
    "movies_df = load_movies_dataset()"
   ]
  },
  {
   "cell_type": "markdown",
   "id": "b6e39647",
   "metadata": {},
   "source": [
    "### Question 3.1\n",
    "\n",
    "Select the titles of the movies that are shorter than `45` minutes with a rating of more than `7.5`.\n",
    "\n",
    "Use only one call to `loc` for this."
   ]
  },
  {
   "cell_type": "code",
   "execution_count": null,
   "id": "b1ef1aac",
   "metadata": {},
   "outputs": [],
   "source": [
    "titles_short_high_rated = ..."
   ]
  },
  {
   "cell_type": "markdown",
   "id": "30522bef",
   "metadata": {},
   "source": [
    "### Question 3.3\n",
    "\n",
    "Find out the runtime of the longest Bulgarian movie. Bulgarian movies are those with `original_language` equal to `bg`.\n",
    "\n",
    "*HINT 1: You can use the function `max` on a column to select its maximum value.*"
   ]
  },
  {
   "cell_type": "code",
   "execution_count": null,
   "id": "160fbb45",
   "metadata": {},
   "outputs": [],
   "source": [
    "runtime_longest_bg_movie = ..."
   ]
  },
  {
   "cell_type": "markdown",
   "id": "a7c2b8de",
   "metadata": {},
   "source": [
    "#### Run these cells after finishing the exercise questions to check your answers. "
   ]
  },
  {
   "cell_type": "code",
   "execution_count": null,
   "id": "840fb099",
   "metadata": {},
   "outputs": [],
   "source": [
    "assert titles_short_high_rated.shape == (437,), \\\n",
    "    f\"Wrong shape of titles_short_high_rated - {titles_short_high_rated.shape}!\""
   ]
  },
  {
   "cell_type": "code",
   "execution_count": null,
   "id": "d0d5f22a",
   "metadata": {},
   "outputs": [],
   "source": [
    "assert runtime_longest_bg_movie == 115, \\\n",
    "    f\"Wrong runtime_longest_bg_movie - {runtime_longest_bg_movie}!\""
   ]
  },
  {
   "cell_type": "markdown",
   "id": "d8f01ab9",
   "metadata": {},
   "source": [
    "## Exercise 3, Part 2: Multiple Conditions, Wrong Dimension\n",
    "\n",
    "---\n",
    "\n",
    "The runtime of all english movies (those with `original_language` equal to `en`) is in hours instead of minutes."
   ]
  },
  {
   "cell_type": "markdown",
   "id": "d224e12b",
   "metadata": {},
   "source": [
    "### Question 3.4\n",
    "\n",
    "Fix the runtime of English movies by multiplying their runtime by `60`.\n",
    "\n",
    "Use only a single call to `loc` without chaining filtering operations."
   ]
  },
  {
   "cell_type": "code",
   "execution_count": null,
   "id": "86996b3a",
   "metadata": {},
   "outputs": [],
   "source": [
    "# YOUR CODE GOES HERE"
   ]
  },
  {
   "cell_type": "markdown",
   "id": "82ce0454",
   "metadata": {},
   "source": [
    "#### Run this cell after finishing the exercise questions to check your answers. "
   ]
  },
  {
   "cell_type": "code",
   "execution_count": null,
   "id": "3c1fcfd4",
   "metadata": {},
   "outputs": [],
   "source": [
    "assert (movies_df.loc[movies_df['runtime'] > 0, 'runtime'] > 0.5).all(), \"Some movies are still in hours!\""
   ]
  },
  {
   "cell_type": "markdown",
   "id": "55b4087f",
   "metadata": {},
   "source": [
    "## Exercise 3, Part 3: Putting it all Together\n",
    "\n",
    "---\n",
    "\n",
    "You will now use all you've learned to answer some more complex questions about movies with the power of Pandas!"
   ]
  },
  {
   "cell_type": "markdown",
   "id": "de9d9b75",
   "metadata": {},
   "source": [
    "### Question 3.5\n",
    "\n",
    "* What's the rating of the lowest-rated movie has a budget of more than `1,000,000` (one million)?\n",
    "* __[Optional]__ What's the title of the movie? _HINT: You can use `idxmin` on the `vote_average` column._"
   ]
  },
  {
   "cell_type": "code",
   "execution_count": null,
   "id": "4b3c764a",
   "metadata": {},
   "outputs": [],
   "source": [
    "lowest_rated_high_budget = ...\n",
    "\n",
    "# [Optional]\n",
    "lowest_rated_high_budget_idx = ...\n",
    "\n",
    "lowest_rated_name = ..."
   ]
  },
  {
   "cell_type": "markdown",
   "id": "0a9b3ac6",
   "metadata": {},
   "source": [
    "### Question 3.6\n",
    "\n",
    "What's the mean rating of all movies with `runtime` > `350` minutes?\n",
    "\n",
    "*HINT: You can use the `mean` function.*"
   ]
  },
  {
   "cell_type": "code",
   "execution_count": null,
   "id": "e4bd8815",
   "metadata": {},
   "outputs": [],
   "source": [
    "avg_rating_long_movies = ..."
   ]
  },
  {
   "cell_type": "markdown",
   "id": "4656b06e",
   "metadata": {},
   "source": [
    "#### Run these cells after finishing the exercise questions to check your answers. "
   ]
  },
  {
   "cell_type": "code",
   "execution_count": null,
   "id": "8e53ea4a",
   "metadata": {},
   "outputs": [],
   "source": [
    "assert lowest_rated_high_budget == 1.5, f\"Wrong lowest_rated_high_budget - {lowest_rated_high_budget}!\""
   ]
  },
  {
   "cell_type": "code",
   "execution_count": null,
   "id": "dabdeca9",
   "metadata": {},
   "outputs": [],
   "source": [
    "assert np.isclose(avg_rating_long_movies, 7.514285714285715, rtol=1e-5), \\\n",
    "    f\"Wrong avg_rating_long_movies - {avg_rating_long_movies:.5f}!\""
   ]
  }
 ],
 "metadata": {
  "kernelspec": {
   "display_name": "Python 3 (ipykernel)",
   "language": "python",
   "name": "python3"
  },
  "language_info": {
   "codemirror_mode": {
    "name": "ipython",
    "version": 3
   },
   "file_extension": ".py",
   "mimetype": "text/x-python",
   "name": "python",
   "nbconvert_exporter": "python",
   "pygments_lexer": "ipython3",
   "version": "3.10.8"
  }
 },
 "nbformat": 4,
 "nbformat_minor": 5
}
