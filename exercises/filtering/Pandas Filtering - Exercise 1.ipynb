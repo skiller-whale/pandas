{
 "cells": [
  {
   "cell_type": "markdown",
   "id": "5b961480",
   "metadata": {},
   "source": [
    "# Filtering Data With Pandas"
   ]
  },
  {
   "cell_type": "code",
   "execution_count": null,
   "id": "65c47183",
   "metadata": {},
   "outputs": [],
   "source": [
    "import numpy as np\n",
    "from utils.dataset_loader import load_whale_dataset\n",
    "%autosave 30"
   ]
  },
  {
   "cell_type": "markdown",
   "id": "47e8a767",
   "metadata": {},
   "source": [
    "## Exercise 1: Indexing Into Data Frames\n",
    "\n",
    "---\n",
    "\n",
    "You will now use Pandas to filter the whales dataset.\n",
    "\n",
    "*HINT: For some queries you might need to chain two filtering operations and create a temporary data frame.*"
   ]
  },
  {
   "cell_type": "code",
   "execution_count": null,
   "id": "c8e26c8e",
   "metadata": {},
   "outputs": [],
   "source": [
    "whale_df = load_whale_dataset()"
   ]
  },
  {
   "cell_type": "markdown",
   "id": "1833542a",
   "metadata": {},
   "source": [
    "### Question 1.0\n",
    "\n",
    "Before you begin, use `df.describe()` and `df.head()` to familiarize yourself with the `whale_df` dataset."
   ]
  },
  {
   "cell_type": "markdown",
   "id": "3ff3d79b",
   "metadata": {},
   "source": [
    "### Question 1.1\n",
    "\n",
    "Select all the whales of type 'orca' from the dataset."
   ]
  },
  {
   "cell_type": "code",
   "execution_count": null,
   "id": "d6faf8e1",
   "metadata": {},
   "outputs": [],
   "source": [
    "all_orcas = ..."
   ]
  },
  {
   "cell_type": "markdown",
   "id": "36acd8b6",
   "metadata": {},
   "source": [
    "### Question 1.2\n",
    "\n",
    "Select the age of the first `male` whale in the dataset."
   ]
  },
  {
   "cell_type": "code",
   "execution_count": null,
   "id": "b68f4005",
   "metadata": {},
   "outputs": [],
   "source": [
    "age_first_male = ..."
   ]
  },
  {
   "cell_type": "markdown",
   "id": "e1c14d60",
   "metadata": {},
   "source": [
    "### Question 1.3\n",
    "\n",
    "Extract a DataFrame with all humpback whales."
   ]
  },
  {
   "cell_type": "code",
   "execution_count": null,
   "id": "6a9ba606",
   "metadata": {},
   "outputs": [],
   "source": [
    "humpback_whales_df = ..."
   ]
  },
  {
   "cell_type": "markdown",
   "id": "5ffa375c",
   "metadata": {},
   "source": [
    "### Question 1.4\n",
    "\n",
    "Using humpback_whales_df, find out how many whales there are of type 'humpback'"
   ]
  },
  {
   "cell_type": "code",
   "execution_count": null,
   "id": "f8239856",
   "metadata": {},
   "outputs": [],
   "source": [
    "number_of_humpback_whales = ..."
   ]
  },
  {
   "cell_type": "markdown",
   "id": "2507405f",
   "metadata": {},
   "source": [
    "### Question 1.5\n",
    "\n",
    "Using humpback_whales_df, find out how many 'humpback' whales older than '30' there are.\n",
    "This motivates the next slide (chaining operations)"
   ]
  },
  {
   "cell_type": "code",
   "execution_count": null,
   "id": "045fd7f3",
   "metadata": {},
   "outputs": [],
   "source": [
    "number_of_humpback_whales_older_than_30 = ..."
   ]
  },
  {
   "cell_type": "markdown",
   "id": "12ff0976",
   "metadata": {},
   "source": [
    "#### Run these cells after finishing the exercise questions to check your answers. "
   ]
  },
  {
   "cell_type": "code",
   "execution_count": null,
   "id": "1b169916",
   "metadata": {},
   "outputs": [],
   "source": [
    "assert all_orcas.shape == (3900, 5), f\"Wrong shape of all_orcas - {all_orcas.shape}!\""
   ]
  },
  {
   "cell_type": "code",
   "execution_count": null,
   "id": "07d9eed0",
   "metadata": {},
   "outputs": [],
   "source": [
    "assert age_first_male == 21, f\"Wrong age of first male whale - {age_first_male}!\""
   ]
  },
  {
   "cell_type": "code",
   "execution_count": null,
   "id": "038dfd2a",
   "metadata": {},
   "outputs": [],
   "source": [
    "assert humpback_whales_df.shape == (2318, 5), \\\n",
    "    f\"Wrong shape of humpback whale sub-dataset - {humpback_whales_df.shape}!\""
   ]
  },
  {
   "cell_type": "code",
   "execution_count": null,
   "id": "c9e6baae",
   "metadata": {},
   "outputs": [],
   "source": [
    "assert number_of_humpback_whales == 2318, \\\n",
    "    f\"Wrong number of humpback whales - {number_of_humpback_whales}!\""
   ]
  },
  {
   "cell_type": "code",
   "execution_count": null,
   "id": "635cdad6",
   "metadata": {},
   "outputs": [],
   "source": [
    "assert number_of_humpback_whales_older_than_30 == 1414, \\\n",
    "    f\"Wrong number of humpback whales older than 30 - {number_of_humpback_whales_older_than_30}!\""
   ]
  }
 ],
 "metadata": {
  "kernelspec": {
   "display_name": "Python 3 (ipykernel)",
   "language": "python",
   "name": "python3"
  },
  "language_info": {
   "codemirror_mode": {
    "name": "ipython",
    "version": 3
   },
   "file_extension": ".py",
   "mimetype": "text/x-python",
   "name": "python",
   "nbconvert_exporter": "python",
   "pygments_lexer": "ipython3",
   "version": "3.10.8"
  }
 },
 "nbformat": 4,
 "nbformat_minor": 5
}
