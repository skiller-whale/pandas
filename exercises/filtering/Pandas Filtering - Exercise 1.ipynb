{
 "cells": [
  {
   "cell_type": "markdown",
   "id": "5b961480",
   "metadata": {},
   "source": [
    "# Filtering Data With Pandas\n",
    "\n",
    "This notebook contains exercises for Pandas Filtering.\n",
    "\n",
    "**At the end of each exercise there are cells containing assert statements that you can use to check your answers.**"
   ]
  },
  {
   "cell_type": "code",
   "execution_count": null,
   "id": "65c47183",
   "metadata": {},
   "outputs": [],
   "source": [
    "import numpy as np\n",
    "import pandas as pd\n",
    "from utils.dataset_loader import load_movies_dataset\n",
    "%autosave 30"
   ]
  },
  {
   "cell_type": "markdown",
   "id": "47e8a767",
   "metadata": {},
   "source": [
    "## Exercise 1: Indexing Into Data Frames\n",
    "\n",
    "---\n",
    "\n",
    "You will now use Pandas to answer some questions about the movies dataset.\n",
    "\n",
    "*HINT: For some queries you might need to chain two filtering operations and create a temporary data frame.*"
   ]
  },
  {
   "cell_type": "code",
   "execution_count": null,
   "id": "c8e26c8e",
   "metadata": {},
   "outputs": [],
   "source": [
    "movies_df = load_movies_dataset()"
   ]
  },
  {
   "cell_type": "markdown",
   "id": "1833542a",
   "metadata": {},
   "source": [
    "### Question 1.0\n",
    "\n",
    "Before you begin, use `movies_df.describe()` and `movies_df.head()` to familiarize yourself with the `movies_df` dataset."
   ]
  },
  {
   "cell_type": "code",
   "execution_count": null,
   "id": "cd10aad2",
   "metadata": {},
   "outputs": [],
   "source": [
    "..."
   ]
  },
  {
   "cell_type": "markdown",
   "id": "49d8bf8d",
   "metadata": {},
   "source": [
    "### Question 1.1\n",
    "\n",
    "Select all movies with revenue `0`."
   ]
  },
  {
   "cell_type": "code",
   "execution_count": null,
   "id": "53b79234",
   "metadata": {},
   "outputs": [],
   "source": [
    "zero_revenue_movies_df = ..."
   ]
  },
  {
   "cell_type": "markdown",
   "id": "36acd8b6",
   "metadata": {},
   "source": [
    "### Question 1.2\n",
    "\n",
    "Select all the japanese movies from the dataset.\n",
    "\n",
    "_HINT: You can use `pd.unique(movies_df['original_language'])` to find the unique values of the `original_language` column._"
   ]
  },
  {
   "cell_type": "code",
   "execution_count": null,
   "id": "d29f9185",
   "metadata": {},
   "outputs": [],
   "source": [
    "all_ja_movies = ..."
   ]
  },
  {
   "cell_type": "markdown",
   "id": "e1c14d60",
   "metadata": {},
   "source": [
    "### Question 1.3\n",
    "\n",
    "Extract a `DataFrame` containing all movies with rating higher than `8`."
   ]
  },
  {
   "cell_type": "code",
   "execution_count": null,
   "id": "6a9ba606",
   "metadata": {},
   "outputs": [],
   "source": [
    "high_rated_df = ..."
   ]
  },
  {
   "cell_type": "markdown",
   "id": "5ffa375c",
   "metadata": {},
   "source": [
    "### Question 1.4\n",
    "\n",
    "* Using `high_rated_df`, find out how many movies rated higher than `8` made a profit (revenue > budget).\n",
    "* Inspect the `budget` and `revenue` columns of `high_rated_df`. What do you notice?"
   ]
  },
  {
   "cell_type": "code",
   "execution_count": null,
   "id": "f8239856",
   "metadata": {},
   "outputs": [],
   "source": [
    "profitable_high_rated_df = ..."
   ]
  },
  {
   "cell_type": "markdown",
   "id": "1d8628a4",
   "metadata": {},
   "source": [
    "#### Run these cells after finishing the exercise questions to check your answers. "
   ]
  },
  {
   "cell_type": "code",
   "execution_count": null,
   "id": "5a7c01ab",
   "metadata": {},
   "outputs": [],
   "source": [
    "assert zero_revenue_movies_df.shape == (7016, 9), (\n",
    "    f\"Wrong shape of zero_revenue_movies_df - {zero_revenue_movies_df.shape}!\"\n",
    ")"
   ]
  },
  {
   "cell_type": "code",
   "execution_count": null,
   "id": "46ee4f9c",
   "metadata": {},
   "outputs": [],
   "source": [
    "assert all_ja_movies.shape == (247, 9), (\n",
    "    f\"Wrong shape of all_ja_movies - {all_ja_movies.shape}!\"\n",
    ")"
   ]
  },
  {
   "cell_type": "code",
   "execution_count": null,
   "id": "1b0b042c",
   "metadata": {},
   "outputs": [],
   "source": [
    "assert profitable_high_rated_df.shape == (18, 9), (\n",
    "    f\"Wrong shape of profitable_high_rated_df - {profitable_high_rated_df}!\"\n",
    ")"
   ]
  }
 ],
 "metadata": {
  "kernelspec": {
   "display_name": "Python 3 (ipykernel)",
   "language": "python",
   "name": "python3"
  },
  "language_info": {
   "codemirror_mode": {
    "name": "ipython",
    "version": 3
   },
   "file_extension": ".py",
   "mimetype": "text/x-python",
   "name": "python",
   "nbconvert_exporter": "python",
   "pygments_lexer": "ipython3",
   "version": "3.10.8"
  }
 },
 "nbformat": 4,
 "nbformat_minor": 5
}
