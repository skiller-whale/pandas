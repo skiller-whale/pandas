{
 "cells": [
  {
   "cell_type": "markdown",
   "id": "bb341feb",
   "metadata": {},
   "source": [
    "# Filtering Data With Pandas"
   ]
  },
  {
   "cell_type": "code",
   "execution_count": null,
   "id": "65c47183",
   "metadata": {},
   "outputs": [],
   "source": [
    "import numpy as np\n",
    "from utils.dataset_loader import load_whale_dataset\n",
    "%autosave 30"
   ]
  },
  {
   "cell_type": "markdown",
   "id": "52e7f17d",
   "metadata": {},
   "source": [
    "## Exercise 2: Multiple Conditions\n",
    "\n",
    "In this exercise you will filter the dataset on multiple conditions."
   ]
  },
  {
   "cell_type": "code",
   "execution_count": null,
   "id": "05412205",
   "metadata": {},
   "outputs": [],
   "source": [
    "whale_df = load_whale_dataset()"
   ]
  },
  {
   "cell_type": "markdown",
   "id": "238f67ad",
   "metadata": {},
   "source": [
    "### Question 2.1\n",
    "\n",
    "Find out how many 'humpback' whales older than '30' there are.\n",
    "\n",
    "Do NOT use a temporary `humpback` whales table this time."
   ]
  },
  {
   "cell_type": "code",
   "execution_count": null,
   "id": "f9e21b04",
   "metadata": {},
   "outputs": [],
   "source": [
    "number_of_humpback_whales_older_than_30 = ..."
   ]
  },
  {
   "cell_type": "markdown",
   "id": "fce3afc0",
   "metadata": {},
   "source": [
    "### Question 2.2\n",
    "\n",
    "Find out how many non-'humpback' whales aged '114' there are."
   ]
  },
  {
   "cell_type": "code",
   "execution_count": null,
   "id": "14554b4a",
   "metadata": {},
   "outputs": [],
   "source": [
    "number_of_non_humpback_whales_aged_114 = ..."
   ]
  },
  {
   "cell_type": "markdown",
   "id": "38dd5fb8",
   "metadata": {},
   "source": [
    "### Question 2.3\n",
    "\n",
    "Find out the  age of the oldest female narwhal.\n",
    "\n",
    "*HINT: You can use the function `df[<colname>].max()` to select the maximum value of the column `<colname>`.*"
   ]
  },
  {
   "cell_type": "code",
   "execution_count": null,
   "id": "c56efd2d",
   "metadata": {},
   "outputs": [],
   "source": [
    "age_of_oldest_female_narwhal = ..."
   ]
  },
  {
   "cell_type": "markdown",
   "id": "dbb324d0",
   "metadata": {},
   "source": [
    "### [Optional] Question 2.4\n",
    "\n",
    "\n",
    "Currently the weight of male humpback whales is in kilograms (kg.), while for other whales it's in tonnes (1 tonne == 1000 kg.).\n",
    "\n",
    "Set the weight of humpback whales to tonnes. What do you notice?"
   ]
  },
  {
   "cell_type": "code",
   "execution_count": null,
   "id": "baaaa9d5",
   "metadata": {},
   "outputs": [],
   "source": [
    "# YOUR CODE GOES HERE"
   ]
  },
  {
   "cell_type": "markdown",
   "id": "13299cb0",
   "metadata": {},
   "source": [
    "#### Run these cells after finishing the exercise questions to check your answers. "
   ]
  },
  {
   "cell_type": "code",
   "execution_count": null,
   "id": "4c320bff",
   "metadata": {},
   "outputs": [],
   "source": [
    "assert number_of_humpback_whales_older_than_30 == 1414, \\\n",
    "    f\"Wrong number of humpback whales older than 30 - {number_of_humpback_whales_older_than_30}!\""
   ]
  },
  {
   "cell_type": "code",
   "execution_count": null,
   "id": "3cd7e614",
   "metadata": {},
   "outputs": [],
   "source": [
    "assert number_of_non_humpback_whales_aged_114 == 13, \\\n",
    "    f\"Wrong number of non-humpback whales aged 114 - {number_of_non_humpback_whales_aged_114}!\""
   ]
  },
  {
   "cell_type": "code",
   "execution_count": null,
   "id": "17e69956",
   "metadata": {},
   "outputs": [],
   "source": [
    "assert age_of_oldest_female_narwhal == 114, \\\n",
    "    f\"Wrong age of oldest narwhal - {age_of_oldest_female_narwhal}!\""
   ]
  }
 ],
 "metadata": {
  "kernelspec": {
   "display_name": "Python 3 (ipykernel)",
   "language": "python",
   "name": "python3"
  },
  "language_info": {
   "codemirror_mode": {
    "name": "ipython",
    "version": 3
   },
   "file_extension": ".py",
   "mimetype": "text/x-python",
   "name": "python",
   "nbconvert_exporter": "python",
   "pygments_lexer": "ipython3",
   "version": "3.10.8"
  }
 },
 "nbformat": 4,
 "nbformat_minor": 5
}
