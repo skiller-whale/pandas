{
 "cells": [
  {
   "cell_type": "markdown",
   "id": "bb341feb",
   "metadata": {},
   "source": [
    "# Filtering Data With Pandas\n",
    "\n",
    "This notebook contains exercises for Pandas Filtering.\n",
    "\n",
    "**At the end of each exercise there are cells containing assert statements that you can use to check your answers.**"
   ]
  },
  {
   "cell_type": "code",
   "execution_count": null,
   "id": "65c47183",
   "metadata": {},
   "outputs": [],
   "source": [
    "import numpy as np\n",
    "import pandas as pd\n",
    "from utils.dataset_loader import load_movies_dataset\n",
    "%autosave 30"
   ]
  },
  {
   "cell_type": "markdown",
   "id": "52e7f17d",
   "metadata": {},
   "source": [
    "## Exercise 2: Multiple Conditions\n",
    "\n",
    "In this exercise you will filter the dataset on multiple conditions."
   ]
  },
  {
   "cell_type": "code",
   "execution_count": null,
   "id": "05412205",
   "metadata": {},
   "outputs": [],
   "source": [
    "movies_df = load_movies_dataset()"
   ]
  },
  {
   "cell_type": "markdown",
   "id": "238f67ad",
   "metadata": {},
   "source": [
    "### Question 2.1\n",
    "\n",
    "* Set `high_rated_df` to a `DataFrame` of all movies rated higher than `8`.\n",
    "* Set `high_rated_non_zero_df` to a `DataFrame` of all movies rated higher than `8` that _also_ have a budget and revenue greater than `0`."
   ]
  },
  {
   "cell_type": "code",
   "execution_count": null,
   "id": "f9e21b04",
   "metadata": {},
   "outputs": [],
   "source": [
    "high_rated_df = ...\n",
    "\n",
    "high_rated_non_zero_df = ..."
   ]
  },
  {
   "cell_type": "markdown",
   "id": "fce3afc0",
   "metadata": {},
   "source": [
    "### Question 2.2\n",
    "\n",
    "The revenue column has lots of `0`s, which suggests there might be missing values.\n",
    "\n",
    "* Compute the fraction of profitable movies with rating higher than `8` out of all movies with rating higher than `8`.\n",
    "* Now compute the same fraction, but excluding movies that have `0` revenue or budget.\n",
    "\n",
    "Profitable movies are those for which `revenue` > `budget`.\n",
    "\n",
    "_HINT: You can use `high_rated_df` and `high_rated_non_zero_df` from the previous question._"
   ]
  },
  {
   "cell_type": "code",
   "execution_count": null,
   "id": "3cee6574",
   "metadata": {},
   "outputs": [],
   "source": [
    "fraction_profitable_high_rated = ..."
   ]
  },
  {
   "cell_type": "code",
   "execution_count": null,
   "id": "03794b37",
   "metadata": {},
   "outputs": [],
   "source": [
    "fraction_profitable_high_rated_excl_zeros = ..."
   ]
  },
  {
   "cell_type": "markdown",
   "id": "38dd5fb8",
   "metadata": {},
   "source": [
    "### [Optional] Question 2.3\n",
    "\n",
    "Find out the revenue of the lowest grossing movie (movie with lowest revenue), excluding movies with budgets or revenues of `0`.\n",
    "\n",
    "*HINT: You can use the function `min` on a column of a `DataFrame` to find its minimum.*"
   ]
  },
  {
   "cell_type": "code",
   "execution_count": null,
   "id": "c56efd2d",
   "metadata": {},
   "outputs": [],
   "source": [
    "revenue_lowest_grossing = ..."
   ]
  },
  {
   "cell_type": "markdown",
   "id": "dbb324d0",
   "metadata": {},
   "source": [
    "### Question 2.4\n",
    "\n",
    "The runtime of all English movies (those with `original_language` equal to `en`) is in hours instead of minutes.\n",
    "\n",
    "Fix it by multiplying that number by `60`. Did something go wrong? No need to fix it for now."
   ]
  },
  {
   "cell_type": "code",
   "execution_count": null,
   "id": "33fe0f41",
   "metadata": {},
   "outputs": [],
   "source": [
    "# YOUR CODE GOES HERE"
   ]
  },
  {
   "cell_type": "markdown",
   "id": "b0998669",
   "metadata": {},
   "source": [
    "#### Run these cells after finishing the exercise questions to check your answers. "
   ]
  },
  {
   "cell_type": "code",
   "execution_count": null,
   "id": "ade634e0",
   "metadata": {},
   "outputs": [],
   "source": [
    "assert high_rated_df.shape == (208, 9), \\\n",
    "    f\"Shape of high_rated_df is wrong - {high_rated_df.shape}!\""
   ]
  },
  {
   "cell_type": "code",
   "execution_count": null,
   "id": "17e69956",
   "metadata": {},
   "outputs": [],
   "source": [
    "assert high_rated_non_zero_df.shape == (13, 9), \\\n",
    "    f\"Shape of high_rated_non_zero_df is wrong - {high_rated_non_zero_df.shape}!\""
   ]
  }
 ],
 "metadata": {
  "kernelspec": {
   "display_name": "Python 3 (ipykernel)",
   "language": "python",
   "name": "python3"
  },
  "language_info": {
   "codemirror_mode": {
    "name": "ipython",
    "version": 3
   },
   "file_extension": ".py",
   "mimetype": "text/x-python",
   "name": "python",
   "nbconvert_exporter": "python",
   "pygments_lexer": "ipython3",
   "version": "3.10.8"
  }
 },
 "nbformat": 4,
 "nbformat_minor": 5
}
